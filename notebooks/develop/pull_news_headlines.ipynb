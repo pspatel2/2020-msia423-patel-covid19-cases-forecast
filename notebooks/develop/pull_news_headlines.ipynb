{
 "cells": [
  {
   "cell_type": "code",
   "execution_count": 1,
   "metadata": {},
   "outputs": [],
   "source": [
    "import requests\n",
    "import json"
   ]
  },
  {
   "cell_type": "code",
   "execution_count": 5,
   "metadata": {},
   "outputs": [],
   "source": [
    "params = {'q': 'virus',\n",
    "          'apiKey': '6b4bdd39ffeb486389c394b2e75642e3'}\n",
    "\n",
    "url = \"https://newsapi.org/v2/top-headlines?sources=bbc-news\""
   ]
  },
  {
   "cell_type": "code",
   "execution_count": 6,
   "metadata": {},
   "outputs": [],
   "source": [
    "response = requests.get(url,params=params).json()"
   ]
  },
  {
   "cell_type": "code",
   "execution_count": 7,
   "metadata": {},
   "outputs": [
    {
     "data": {
      "text/plain": [
       "{'status': 'ok',\n",
       " 'totalResults': 4,\n",
       " 'articles': [{'source': {'id': 'bbc-news', 'name': 'BBC News'},\n",
       "   'author': 'BBC News',\n",
       "   'title': 'Trump gives WHO ultimatum over virus handling',\n",
       "   'description': 'The US president accuses the UN agency of having an \"alarming lack of independence\" from China.',\n",
       "   'url': 'http://www.bbc.co.uk/news/world-us-canada-52718309',\n",
       "   'urlToImage': 'https://ichef.bbci.co.uk/news/1024/branded_news/34E8/production/_112344531_bc57e806-be46-4a1d-9ecc-54726a1e70e4.jpg',\n",
       "   'publishedAt': '2020-05-19T04:56:47Z',\n",
       "   'content': 'Image copyrightGetty ImagesImage caption\\r\\n Mr Trump accuses the UN agency of having an \"alarming lack of independence\" from China.\\r\\nUS President Donald Trump has sent a letter to the head of the World Health Organization (WHO) threatening to pull US funding p… [+3383 chars]'},\n",
       "  {'source': {'id': 'bbc-news', 'name': 'BBC News'},\n",
       "   'author': 'BBC News',\n",
       "   'title': \"Coronavirus updates: Trump slams WHO as 'puppet of China'\",\n",
       "   'description': 'President Trump - who faces re-election this year - has accused China of trying to cover up the outbreak.',\n",
       "   'url': 'http://www.bbc.co.uk/news/live/world-52717664',\n",
       "   'urlToImage': 'https://m.files.bbci.co.uk/modules/bbc-morph-news-waf-page-meta/4.1.2/bbc_news_logo.png',\n",
       "   'publishedAt': '2020-05-19T02:07:25.9107814Z',\n",
       "   'content': 'US President Donald Trump has accused the World Health Organization of being a puppet of China. His comments come as the WHO is holding a two-day virtual meeting focussed on the global pandemic.\\r\\nHe said the WHO \"gave us a lot of very bad advice, terrible adv… [+795 chars]'},\n",
       "  {'source': {'id': 'bbc-news', 'name': 'BBC News'},\n",
       "   'author': 'BBC News',\n",
       "   'title': 'Trump taking unproven drug to ward off coronavirus',\n",
       "   'description': 'Speaking at the White House, he told reporters he started taking the malaria and lupus medication recently.',\n",
       "   'url': 'http://www.bbc.co.uk/news/world-us-canada-52717161',\n",
       "   'urlToImage': 'https://ichef.bbci.co.uk/news/1024/branded_news/5B1C/production/_112342332_mediaitem112342331.jpg',\n",
       "   'publishedAt': '2020-05-18T21:02:58Z',\n",
       "   'content': 'Image copyrightEPAImage caption\\r\\n Donald Trump has advocated hydroxychloroquine as a prevention\\r\\nUS President Donald Trump has said he is taking hydroxychloroquine to ward off coronavirus.\\r\\nSpeaking at the White House, he told reporters he started taking the … [+795 chars]'},\n",
       "  {'source': {'id': 'bbc-news', 'name': 'BBC News'},\n",
       "   'author': 'BBC News',\n",
       "   'title': 'First hints coronavirus vaccine trains immune system',\n",
       "   'description': 'Larger trials now needed to see if the vaccine can protect against the coronavirus.',\n",
       "   'url': 'http://www.bbc.co.uk/news/health-52677203',\n",
       "   'urlToImage': 'https://ichef.bbci.co.uk/news/1024/branded_news/17E5B/production/_112338879_gettyimages-1204808423.jpg',\n",
       "   'publishedAt': '2020-05-18T15:05:10Z',\n",
       "   'content': \"Image copyrightGetty Images\\r\\nThe first hints that a vaccine can train people's immune system to fight coronavirus have been reported by a company in the US.\\r\\nModerna said neutralising antibodies were found in the first eight people who took part in their safe… [+3036 chars]\"}]}"
      ]
     },
     "execution_count": 7,
     "metadata": {},
     "output_type": "execute_result"
    }
   ],
   "source": [
    "response"
   ]
  },
  {
   "cell_type": "code",
   "execution_count": 53,
   "metadata": {},
   "outputs": [],
   "source": [
    "articles = response['articles']"
   ]
  },
  {
   "cell_type": "code",
   "execution_count": 54,
   "metadata": {},
   "outputs": [
    {
     "data": {
      "text/plain": [
       "3"
      ]
     },
     "execution_count": 54,
     "metadata": {},
     "output_type": "execute_result"
    }
   ],
   "source": [
    "len(articles)"
   ]
  },
  {
   "cell_type": "code",
   "execution_count": 11,
   "metadata": {},
   "outputs": [],
   "source": [
    "titles = []\n",
    "description = []\n",
    "links = []\n",
    "images =[]\n",
    "dates = []\n",
    "\n",
    "for article in articles:\n",
    "    titles.append(article['title'])\n",
    "    description.append(article['description'])\n",
    "    links.append(article['url'])\n",
    "    images.append(article['urlToImage'])\n",
    "    dates.append(article['publishedAt'])"
   ]
  },
  {
   "cell_type": "code",
   "execution_count": 12,
   "metadata": {},
   "outputs": [
    {
     "data": {
      "text/plain": [
       "[\"Drug has 'clear cut' power to fight coronavirus\",\n",
       " \"My son's murderer doesn't deserve to die of virus\",\n",
       " 'Inmate who gave birth on ventilator dies of Covid-19',\n",
       " 'US economy sinks 4.8% amid coronavirus shutdowns',\n",
       " 'Coronavirus updates: US confirms one million cases']"
      ]
     },
     "execution_count": 12,
     "metadata": {},
     "output_type": "execute_result"
    }
   ],
   "source": [
    "titles"
   ]
  },
  {
   "cell_type": "code",
   "execution_count": 24,
   "metadata": {},
   "outputs": [],
   "source": [
    "import json"
   ]
  },
  {
   "cell_type": "code",
   "execution_count": 25,
   "metadata": {},
   "outputs": [],
   "source": [
    "with open('news.txt', 'w') as file:\n",
    "     file.write(json.dumps(articles)) # use `json.loads` to do the reverse"
   ]
  },
  {
   "cell_type": "code",
   "execution_count": 27,
   "metadata": {},
   "outputs": [
    {
     "data": {
      "text/plain": [
       "[{'source': {'id': 'bbc-news', 'name': 'BBC News'},\n",
       "  'author': 'BBC News',\n",
       "  'title': \"Drug has 'clear cut' power to fight coronavirus\",\n",
       "  'description': 'The data on its effect on symptoms comes from a trial of more than 1,000 patients in the US.',\n",
       "  'url': 'http://www.bbc.co.uk/news/health-52478783',\n",
       "  'urlToImage': 'https://ichef.bbci.co.uk/news/1024/branded_news/1461B/production/_112038438_gettyimages-1209490985.jpg',\n",
       "  'publishedAt': '2020-04-29T19:24:21Z',\n",
       "  'content': 'Image copyrightGetty Images\\r\\nThere is \"clear-cut\" evidence that a drug can help people recover from the coronavirus, say US officials. \\r\\nRemdesivir cut the duration of symptoms from 15 days down to 11 in clinical trials.\\r\\nThe full details have not been publis… [+3134 chars]'},\n",
       " {'source': {'id': 'bbc-news', 'name': 'BBC News'},\n",
       "  'author': 'BBC News',\n",
       "  'title': \"My son's murderer doesn't deserve to die of virus\",\n",
       "  'description': 'A mother in Argentina says she fears the asthmatic killer will not survive Covid-19 in jail.',\n",
       "  'url': 'http://www.bbc.co.uk/news/world-latin-america-52477880',\n",
       "  'urlToImage': 'https://ichef.bbci.co.uk/news/1024/branded_news/9878/production/_112023093_21a51ead-6c8e-4f12-88cb-eeb1d226fb42.jpg',\n",
       "  'publishedAt': '2020-04-29T17:51:37Z',\n",
       "  'content': \"Image copyrightAlejo HunauImage caption\\r\\n Alejo Hunau was murdered in his apartment in 2004\\r\\nA woman in Argentina has written to authorities to support the release of her son's killer from prison during the coronavirus pandemic, recognising that his asthma pu… [+3242 chars]\"},\n",
       " {'source': {'id': 'bbc-news', 'name': 'BBC News'},\n",
       "  'author': 'BBC News',\n",
       "  'title': 'Inmate who gave birth on ventilator dies of Covid-19',\n",
       "  'description': 'The 30-year-old appears to be the the first US federal female prisoner to die from coronavirus.',\n",
       "  'url': 'http://www.bbc.co.uk/news/world-us-canada-52465728',\n",
       "  'urlToImage': 'https://ichef.bbci.co.uk/news/1024/branded_news/1060A/production/_112028076_gettyimages-1221193393.jpg',\n",
       "  'publishedAt': '2020-04-29T15:13:33Z',\n",
       "  'content': 'Image copyrightGetty ImagesImage caption\\r\\n A person on a ventilator in a US hospital\\r\\nA US federal prison inmate who gave birth while she was on a ventilator has died of Covid-19.\\r\\nAndrea Circle Bear, 30, died on 28 April while serving a 26-month sentence for… [+2796 chars]'},\n",
       " {'source': {'id': 'bbc-news', 'name': 'BBC News'},\n",
       "  'author': 'BBC News',\n",
       "  'title': 'US economy sinks 4.8% amid coronavirus shutdowns',\n",
       "  'description': \"The contraction in the world's largest economy is the most severe since the financial crisis of 2008.\",\n",
       "  'url': 'http://www.bbc.co.uk/news/business-52466864',\n",
       "  'urlToImage': 'https://ichef.bbci.co.uk/news/1024/branded_news/6290/production/_112023252_gettyimages-1210677785.jpg',\n",
       "  'publishedAt': '2020-04-29T13:02:37Z',\n",
       "  'content': \"Image copyrightGetty Images\\r\\nThe US economy suffered its most severe contraction in more than a decade in the first quarter of the year, as the country introduced lockdowns to slow the spread of coronavirus.\\r\\nThe world's largest economy sank at an annual rate… [+1342 chars]\"},\n",
       " {'source': {'id': 'bbc-news', 'name': 'BBC News'},\n",
       "  'author': 'BBC News',\n",
       "  'title': 'Coronavirus updates: US confirms one million cases',\n",
       "  'description': 'More than 58,000 Americans have now died with Covid-19, more than were killed in the war in Vietnam.',\n",
       "  'url': 'http://www.bbc.co.uk/news/live/world-52466471',\n",
       "  'urlToImage': 'https://m.files.bbci.co.uk/modules/bbc-morph-news-waf-page-meta/4.1.2/bbc_news_logo.png',\n",
       "  'publishedAt': '2020-04-29T02:07:28.7898153Z',\n",
       "  'content': 'Getting trapped on a deserted island may be a nightmare for some, but not for Kevin and Adele Hockey.\\r\\nThe couple went to Fraser Island in Australia to work as caretakers for a group of holiday homes before the country imposed its lockdown.\\r\\nA month later, th… [+383 chars]'}]"
      ]
     },
     "execution_count": 27,
     "metadata": {},
     "output_type": "execute_result"
    }
   ],
   "source": [
    "articles"
   ]
  },
  {
   "cell_type": "code",
   "execution_count": null,
   "metadata": {},
   "outputs": [],
   "source": []
  }
 ],
 "metadata": {
  "kernelspec": {
   "display_name": "Python 3",
   "language": "python",
   "name": "python3"
  },
  "language_info": {
   "codemirror_mode": {
    "name": "ipython",
    "version": 3
   },
   "file_extension": ".py",
   "mimetype": "text/x-python",
   "name": "python",
   "nbconvert_exporter": "python",
   "pygments_lexer": "ipython3",
   "version": "3.7.7"
  }
 },
 "nbformat": 4,
 "nbformat_minor": 4
}
