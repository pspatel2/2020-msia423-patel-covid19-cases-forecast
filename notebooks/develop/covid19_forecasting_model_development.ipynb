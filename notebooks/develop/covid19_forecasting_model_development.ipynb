{
 "cells": [
  {
   "cell_type": "code",
   "execution_count": 119,
   "metadata": {},
   "outputs": [],
   "source": [
    "import pandas as pd\n",
    "import numpy as np\n",
    "import time\n",
    "from sklearn.model_selection import TimeSeriesSplit\n",
    "from sklearn.linear_model import LinearRegression\n",
    "from fbprophet import Prophet\n",
    "from datetime import datetime\n",
    "from numpy import array\n",
    "from numpy import split"
   ]
  },
  {
   "cell_type": "code",
   "execution_count": 6,
   "metadata": {},
   "outputs": [],
   "source": [
    "timestr = time.strftime(\"%Y_%m_%d\")\n",
    "timestr = '2020_04_14'\n",
    "df = pd.read_csv(r'..\\..\\data\\dev_data\\covid19_time_series_{}.csv'.format(timestr))\n",
    "##Active is always zero...manually correct via simple calculation\n",
    "df['Active'] = df['Confirmed'] - df['Deaths'] - df['Recovered']"
   ]
  },
  {
   "cell_type": "markdown",
   "metadata": {},
   "source": [
    "## Multiple Linear Regression Approach"
   ]
  },
  {
   "cell_type": "code",
   "execution_count": 7,
   "metadata": {},
   "outputs": [],
   "source": [
    "## really only need the date and confirmed columns but bringing along the other in case we want to predict any of them\n",
    "country_df_regres = df.groupby(['Country','Date']).sum()[[\"Confirmed\",\"Recovered\",\"Active\",\"Deaths\"]].reset_index()"
   ]
  },
  {
   "cell_type": "code",
   "execution_count": 8,
   "metadata": {},
   "outputs": [],
   "source": [
    "global_df = country_df_regres.groupby('Date').sum()[[\"Confirmed\",\"Recovered\",\"Active\",\"Deaths\"]].reset_index()\n",
    "global_df['Date'] = pd.to_datetime(global_df['Date'])"
   ]
  },
  {
   "cell_type": "code",
   "execution_count": 9,
   "metadata": {},
   "outputs": [],
   "source": [
    "mlr_global_df = global_df.copy()"
   ]
  },
  {
   "cell_type": "code",
   "execution_count": 10,
   "metadata": {},
   "outputs": [],
   "source": [
    "## create lag variables from the last two weeks\n",
    "for i in range(7, 15):\n",
    "    mlr_global_df[f'Confirmed_lag_{i}'] = mlr_global_df['Confirmed'].shift(i)\n",
    "    mlr_global_df[f'Deaths_lag_{i}'] = mlr_global_df['Deaths'].shift(i)\n",
    "    mlr_global_df[f'Recovered_lag_{i}'] = mlr_global_df['Recovered'].shift(i)\n",
    "    mlr_global_df[f'Active_lag{i}'] = mlr_global_df['Active'].shift(i)"
   ]
  },
  {
   "cell_type": "code",
   "execution_count": 11,
   "metadata": {},
   "outputs": [
    {
     "data": {
      "text/html": [
       "<div>\n",
       "<style scoped>\n",
       "    .dataframe tbody tr th:only-of-type {\n",
       "        vertical-align: middle;\n",
       "    }\n",
       "\n",
       "    .dataframe tbody tr th {\n",
       "        vertical-align: top;\n",
       "    }\n",
       "\n",
       "    .dataframe thead th {\n",
       "        text-align: right;\n",
       "    }\n",
       "</style>\n",
       "<table border=\"1\" class=\"dataframe\">\n",
       "  <thead>\n",
       "    <tr style=\"text-align: right;\">\n",
       "      <th></th>\n",
       "      <th>Date</th>\n",
       "      <th>Confirmed</th>\n",
       "      <th>Recovered</th>\n",
       "      <th>Active</th>\n",
       "      <th>Deaths</th>\n",
       "      <th>Confirmed_lag_7</th>\n",
       "      <th>Deaths_lag_7</th>\n",
       "      <th>Recovered_lag_7</th>\n",
       "      <th>Active_lag7</th>\n",
       "      <th>Confirmed_lag_8</th>\n",
       "      <th>...</th>\n",
       "      <th>Recovered_lag_12</th>\n",
       "      <th>Active_lag12</th>\n",
       "      <th>Confirmed_lag_13</th>\n",
       "      <th>Deaths_lag_13</th>\n",
       "      <th>Recovered_lag_13</th>\n",
       "      <th>Active_lag13</th>\n",
       "      <th>Confirmed_lag_14</th>\n",
       "      <th>Deaths_lag_14</th>\n",
       "      <th>Recovered_lag_14</th>\n",
       "      <th>Active_lag14</th>\n",
       "    </tr>\n",
       "  </thead>\n",
       "  <tbody>\n",
       "    <tr>\n",
       "      <th>0</th>\n",
       "      <td>2020-01-22 00:00:00+00:00</td>\n",
       "      <td>554</td>\n",
       "      <td>28</td>\n",
       "      <td>509</td>\n",
       "      <td>17</td>\n",
       "      <td>NaN</td>\n",
       "      <td>NaN</td>\n",
       "      <td>NaN</td>\n",
       "      <td>NaN</td>\n",
       "      <td>NaN</td>\n",
       "      <td>...</td>\n",
       "      <td>NaN</td>\n",
       "      <td>NaN</td>\n",
       "      <td>NaN</td>\n",
       "      <td>NaN</td>\n",
       "      <td>NaN</td>\n",
       "      <td>NaN</td>\n",
       "      <td>NaN</td>\n",
       "      <td>NaN</td>\n",
       "      <td>NaN</td>\n",
       "      <td>NaN</td>\n",
       "    </tr>\n",
       "    <tr>\n",
       "      <th>1</th>\n",
       "      <td>2020-01-23 00:00:00+00:00</td>\n",
       "      <td>654</td>\n",
       "      <td>30</td>\n",
       "      <td>606</td>\n",
       "      <td>18</td>\n",
       "      <td>NaN</td>\n",
       "      <td>NaN</td>\n",
       "      <td>NaN</td>\n",
       "      <td>NaN</td>\n",
       "      <td>NaN</td>\n",
       "      <td>...</td>\n",
       "      <td>NaN</td>\n",
       "      <td>NaN</td>\n",
       "      <td>NaN</td>\n",
       "      <td>NaN</td>\n",
       "      <td>NaN</td>\n",
       "      <td>NaN</td>\n",
       "      <td>NaN</td>\n",
       "      <td>NaN</td>\n",
       "      <td>NaN</td>\n",
       "      <td>NaN</td>\n",
       "    </tr>\n",
       "    <tr>\n",
       "      <th>2</th>\n",
       "      <td>2020-01-24 00:00:00+00:00</td>\n",
       "      <td>941</td>\n",
       "      <td>36</td>\n",
       "      <td>879</td>\n",
       "      <td>26</td>\n",
       "      <td>NaN</td>\n",
       "      <td>NaN</td>\n",
       "      <td>NaN</td>\n",
       "      <td>NaN</td>\n",
       "      <td>NaN</td>\n",
       "      <td>...</td>\n",
       "      <td>NaN</td>\n",
       "      <td>NaN</td>\n",
       "      <td>NaN</td>\n",
       "      <td>NaN</td>\n",
       "      <td>NaN</td>\n",
       "      <td>NaN</td>\n",
       "      <td>NaN</td>\n",
       "      <td>NaN</td>\n",
       "      <td>NaN</td>\n",
       "      <td>NaN</td>\n",
       "    </tr>\n",
       "    <tr>\n",
       "      <th>3</th>\n",
       "      <td>2020-01-25 00:00:00+00:00</td>\n",
       "      <td>1434</td>\n",
       "      <td>39</td>\n",
       "      <td>1353</td>\n",
       "      <td>42</td>\n",
       "      <td>NaN</td>\n",
       "      <td>NaN</td>\n",
       "      <td>NaN</td>\n",
       "      <td>NaN</td>\n",
       "      <td>NaN</td>\n",
       "      <td>...</td>\n",
       "      <td>NaN</td>\n",
       "      <td>NaN</td>\n",
       "      <td>NaN</td>\n",
       "      <td>NaN</td>\n",
       "      <td>NaN</td>\n",
       "      <td>NaN</td>\n",
       "      <td>NaN</td>\n",
       "      <td>NaN</td>\n",
       "      <td>NaN</td>\n",
       "      <td>NaN</td>\n",
       "    </tr>\n",
       "    <tr>\n",
       "      <th>4</th>\n",
       "      <td>2020-01-26 00:00:00+00:00</td>\n",
       "      <td>2118</td>\n",
       "      <td>52</td>\n",
       "      <td>2010</td>\n",
       "      <td>56</td>\n",
       "      <td>NaN</td>\n",
       "      <td>NaN</td>\n",
       "      <td>NaN</td>\n",
       "      <td>NaN</td>\n",
       "      <td>NaN</td>\n",
       "      <td>...</td>\n",
       "      <td>NaN</td>\n",
       "      <td>NaN</td>\n",
       "      <td>NaN</td>\n",
       "      <td>NaN</td>\n",
       "      <td>NaN</td>\n",
       "      <td>NaN</td>\n",
       "      <td>NaN</td>\n",
       "      <td>NaN</td>\n",
       "      <td>NaN</td>\n",
       "      <td>NaN</td>\n",
       "    </tr>\n",
       "  </tbody>\n",
       "</table>\n",
       "<p>5 rows × 37 columns</p>\n",
       "</div>"
      ],
      "text/plain": [
       "                       Date  Confirmed  Recovered  Active  Deaths  \\\n",
       "0 2020-01-22 00:00:00+00:00        554         28     509      17   \n",
       "1 2020-01-23 00:00:00+00:00        654         30     606      18   \n",
       "2 2020-01-24 00:00:00+00:00        941         36     879      26   \n",
       "3 2020-01-25 00:00:00+00:00       1434         39    1353      42   \n",
       "4 2020-01-26 00:00:00+00:00       2118         52    2010      56   \n",
       "\n",
       "   Confirmed_lag_7  Deaths_lag_7  Recovered_lag_7  Active_lag7  \\\n",
       "0              NaN           NaN              NaN          NaN   \n",
       "1              NaN           NaN              NaN          NaN   \n",
       "2              NaN           NaN              NaN          NaN   \n",
       "3              NaN           NaN              NaN          NaN   \n",
       "4              NaN           NaN              NaN          NaN   \n",
       "\n",
       "   Confirmed_lag_8  ...  Recovered_lag_12  Active_lag12  Confirmed_lag_13  \\\n",
       "0              NaN  ...               NaN           NaN               NaN   \n",
       "1              NaN  ...               NaN           NaN               NaN   \n",
       "2              NaN  ...               NaN           NaN               NaN   \n",
       "3              NaN  ...               NaN           NaN               NaN   \n",
       "4              NaN  ...               NaN           NaN               NaN   \n",
       "\n",
       "   Deaths_lag_13  Recovered_lag_13  Active_lag13  Confirmed_lag_14  \\\n",
       "0            NaN               NaN           NaN               NaN   \n",
       "1            NaN               NaN           NaN               NaN   \n",
       "2            NaN               NaN           NaN               NaN   \n",
       "3            NaN               NaN           NaN               NaN   \n",
       "4            NaN               NaN           NaN               NaN   \n",
       "\n",
       "   Deaths_lag_14  Recovered_lag_14  Active_lag14  \n",
       "0            NaN               NaN           NaN  \n",
       "1            NaN               NaN           NaN  \n",
       "2            NaN               NaN           NaN  \n",
       "3            NaN               NaN           NaN  \n",
       "4            NaN               NaN           NaN  \n",
       "\n",
       "[5 rows x 37 columns]"
      ]
     },
     "execution_count": 11,
     "metadata": {},
     "output_type": "execute_result"
    }
   ],
   "source": [
    "mlr_global_df.head()"
   ]
  },
  {
   "cell_type": "code",
   "execution_count": 12,
   "metadata": {},
   "outputs": [],
   "source": [
    "mlr_global_df_use = mlr_global_df.dropna()"
   ]
  },
  {
   "cell_type": "markdown",
   "metadata": {},
   "source": [
    "### First model just using the confirmed cases lag columns"
   ]
  },
  {
   "cell_type": "code",
   "execution_count": 13,
   "metadata": {},
   "outputs": [],
   "source": [
    "mlr_global_df_use=mlr_global_df_use.reset_index()\n",
    "lag_cols_only =  [col for col in mlr_global_df_use.columns if 'Confirmed_lag_' in col]\n",
    "X = mlr_global_df_use[lag_cols_only]\n",
    "y = mlr_global_df_use['Confirmed']"
   ]
  },
  {
   "cell_type": "code",
   "execution_count": 14,
   "metadata": {},
   "outputs": [],
   "source": [
    "num_in_test = 7\n",
    "test_size = float(num_in_test) / len(X)\n",
    "n_splits = int((1//test_size)-1)\n",
    "tscv = TimeSeriesSplit(n_splits=n_splits)"
   ]
  },
  {
   "cell_type": "code",
   "execution_count": 15,
   "metadata": {},
   "outputs": [
    {
     "name": "stdout",
     "output_type": "stream",
     "text": [
      "TRAIN: [ 0  1  2  3  4  5  6  7  8  9 10 11 12] TEST: [13 14 15 16 17 18 19]\n",
      "TRAIN: [ 0  1  2  3  4  5  6  7  8  9 10 11 12 13 14 15 16 17 18 19] TEST: [20 21 22 23 24 25 26]\n",
      "TRAIN: [ 0  1  2  3  4  5  6  7  8  9 10 11 12 13 14 15 16 17 18 19 20 21 22 23\n",
      " 24 25 26] TEST: [27 28 29 30 31 32 33]\n",
      "TRAIN: [ 0  1  2  3  4  5  6  7  8  9 10 11 12 13 14 15 16 17 18 19 20 21 22 23\n",
      " 24 25 26 27 28 29 30 31 32 33] TEST: [34 35 36 37 38 39 40]\n",
      "TRAIN: [ 0  1  2  3  4  5  6  7  8  9 10 11 12 13 14 15 16 17 18 19 20 21 22 23\n",
      " 24 25 26 27 28 29 30 31 32 33 34 35 36 37 38 39 40] TEST: [41 42 43 44 45 46 47]\n",
      "TRAIN: [ 0  1  2  3  4  5  6  7  8  9 10 11 12 13 14 15 16 17 18 19 20 21 22 23\n",
      " 24 25 26 27 28 29 30 31 32 33 34 35 36 37 38 39 40 41 42 43 44 45 46 47] TEST: [48 49 50 51 52 53 54]\n",
      "TRAIN: [ 0  1  2  3  4  5  6  7  8  9 10 11 12 13 14 15 16 17 18 19 20 21 22 23\n",
      " 24 25 26 27 28 29 30 31 32 33 34 35 36 37 38 39 40 41 42 43 44 45 46 47\n",
      " 48 49 50 51 52 53 54] TEST: [55 56 57 58 59 60 61]\n",
      "TRAIN: [ 0  1  2  3  4  5  6  7  8  9 10 11 12 13 14 15 16 17 18 19 20 21 22 23\n",
      " 24 25 26 27 28 29 30 31 32 33 34 35 36 37 38 39 40 41 42 43 44 45 46 47\n",
      " 48 49 50 51 52 53 54 55 56 57 58 59 60 61] TEST: [62 63 64 65 66 67 68]\n"
     ]
    }
   ],
   "source": [
    "y_preds = []\n",
    "mapes =  []\n",
    "model_coefs = []\n",
    "first_test_ind = 50000\n",
    "for train_index, test_index in tscv.split(X):\n",
    "    print(\"TRAIN:\", train_index, \"TEST:\", test_index)\n",
    "    if test_index[0] < first_test_ind:\n",
    "        first_test_ind=test_index[0]\n",
    "    X_train, X_test = X.iloc[train_index], X.iloc[test_index]\n",
    "    y_train, y_test = y.iloc[train_index], y.iloc[test_index]\n",
    "    model = LinearRegression()\n",
    "    model.fit(X_train, y_train)\n",
    "    model_coefs.append(model.coef_)\n",
    "    y_pred = model.predict(X_test)\n",
    "    y_pred = np.round(y_pred)\n",
    "    y_preds.append(y_pred)\n",
    "    mapes.append(round((abs((y_pred -y_test) / y_test) * 100).mean()))\n",
    "    "
   ]
  },
  {
   "cell_type": "code",
   "execution_count": 16,
   "metadata": {},
   "outputs": [
    {
     "data": {
      "text/plain": [
       "16.625"
      ]
     },
     "execution_count": 16,
     "metadata": {},
     "output_type": "execute_result"
    }
   ],
   "source": [
    "np.mean(mapes)"
   ]
  },
  {
   "cell_type": "code",
   "execution_count": 17,
   "metadata": {},
   "outputs": [
    {
     "name": "stderr",
     "output_type": "stream",
     "text": [
      "No handles with labels found to put in legend.\n"
     ]
    },
    {
     "data": {
      "image/png": "[encoded data removed]",
      "text/plain": [
       "<Figure size 1008x360 with 1 Axes>"
      ]
     },
     "metadata": {
      "needs_background": "light"
     },
     "output_type": "display_data"
    }
   ],
   "source": [
    "fig, ax = plt.subplots(figsize=(14, 5))\n",
    "y_preds = [y for x in y_preds for y in x]\n",
    "yplot = y[first_test_ind:]\n",
    "ax.plot(yplot, 'go--')\n",
    "ax.plot(pd.Series(y_preds, index = yplot.index), 'ro--')\n",
    "\n",
    "plt.title('Actual vs Pred')\n",
    "plt.legend()\n",
    "plt.show()"
   ]
  },
  {
   "cell_type": "markdown",
   "metadata": {},
   "source": [
    "### Next linear regression model with some engineered features"
   ]
  },
  {
   "cell_type": "code",
   "execution_count": 18,
   "metadata": {},
   "outputs": [
    {
     "name": "stderr",
     "output_type": "stream",
     "text": [
      "C:\\Users\\pspat\\Anaconda3\\lib\\site-packages\\ipykernel_launcher.py:5: SettingWithCopyWarning:\n",
      "\n",
      "\n",
      "A value is trying to be set on a copy of a slice from a DataFrame.\n",
      "Try using .loc[row_indexer,col_indexer] = value instead\n",
      "\n",
      "See the caveats in the documentation: https://pandas.pydata.org/pandas-docs/stable/user_guide/indexing.html#returning-a-view-versus-a-copy\n",
      "\n",
      "C:\\Users\\pspat\\Anaconda3\\lib\\site-packages\\ipykernel_launcher.py:6: SettingWithCopyWarning:\n",
      "\n",
      "\n",
      "A value is trying to be set on a copy of a slice from a DataFrame.\n",
      "Try using .loc[row_indexer,col_indexer] = value instead\n",
      "\n",
      "See the caveats in the documentation: https://pandas.pydata.org/pandas-docs/stable/user_guide/indexing.html#returning-a-view-versus-a-copy\n",
      "\n",
      "C:\\Users\\pspat\\Anaconda3\\lib\\site-packages\\ipykernel_launcher.py:7: SettingWithCopyWarning:\n",
      "\n",
      "\n",
      "A value is trying to be set on a copy of a slice from a DataFrame.\n",
      "Try using .loc[row_indexer,col_indexer] = value instead\n",
      "\n",
      "See the caveats in the documentation: https://pandas.pydata.org/pandas-docs/stable/user_guide/indexing.html#returning-a-view-versus-a-copy\n",
      "\n",
      "C:\\Users\\pspat\\Anaconda3\\lib\\site-packages\\ipykernel_launcher.py:9: SettingWithCopyWarning:\n",
      "\n",
      "\n",
      "A value is trying to be set on a copy of a slice from a DataFrame.\n",
      "Try using .loc[row_indexer,col_indexer] = value instead\n",
      "\n",
      "See the caveats in the documentation: https://pandas.pydata.org/pandas-docs/stable/user_guide/indexing.html#returning-a-view-versus-a-copy\n",
      "\n"
     ]
    }
   ],
   "source": [
    "cols=['Date','Confirmed']\n",
    "lag_cols = [col for col in mlr_global_df.columns if 'Confirmed_lag_' in col]\n",
    "train_cols=cols+lag_cols\n",
    "mlr_conf_global_df  = mlr_global_df[train_cols]\n",
    "mlr_conf_global_df['month']=mlr_conf_global_df['Date'].dt.month \n",
    "mlr_conf_global_df['dayofweek']=mlr_conf_global_df['Date'].dt.dayofweek\n",
    "mlr_conf_global_df['seven_day_rolling_mean_confirmed'] = mlr_conf_global_df['Confirmed'].rolling(window=7).mean()\n",
    "weights = np.arange(1,8)\n",
    "mlr_conf_global_df['wgtd_seven_day_rolling_mean_confirmed'] = mlr_conf_global_df['Confirmed'].rolling(window=7).apply(lambda x: np.dot(x, weights)/weights.sum(), raw=True)\n",
    "mlr_conf_global_df = mlr_conf_global_df.dropna()"
   ]
  },
  {
   "cell_type": "code",
   "execution_count": 19,
   "metadata": {},
   "outputs": [],
   "source": [
    "X = mlr_conf_global_df.drop(columns=['Confirmed','Date'])\n",
    "y = mlr_conf_global_df['Confirmed']"
   ]
  },
  {
   "cell_type": "code",
   "execution_count": 20,
   "metadata": {},
   "outputs": [
    {
     "name": "stdout",
     "output_type": "stream",
     "text": [
      "TRAIN: [ 0  1  2  3  4  5  6  7  8  9 10 11 12] TEST: [13 14 15 16 17 18 19]\n",
      "TRAIN: [ 0  1  2  3  4  5  6  7  8  9 10 11 12 13 14 15 16 17 18 19] TEST: [20 21 22 23 24 25 26]\n",
      "TRAIN: [ 0  1  2  3  4  5  6  7  8  9 10 11 12 13 14 15 16 17 18 19 20 21 22 23\n",
      " 24 25 26] TEST: [27 28 29 30 31 32 33]\n",
      "TRAIN: [ 0  1  2  3  4  5  6  7  8  9 10 11 12 13 14 15 16 17 18 19 20 21 22 23\n",
      " 24 25 26 27 28 29 30 31 32 33] TEST: [34 35 36 37 38 39 40]\n",
      "TRAIN: [ 0  1  2  3  4  5  6  7  8  9 10 11 12 13 14 15 16 17 18 19 20 21 22 23\n",
      " 24 25 26 27 28 29 30 31 32 33 34 35 36 37 38 39 40] TEST: [41 42 43 44 45 46 47]\n",
      "TRAIN: [ 0  1  2  3  4  5  6  7  8  9 10 11 12 13 14 15 16 17 18 19 20 21 22 23\n",
      " 24 25 26 27 28 29 30 31 32 33 34 35 36 37 38 39 40 41 42 43 44 45 46 47] TEST: [48 49 50 51 52 53 54]\n",
      "TRAIN: [ 0  1  2  3  4  5  6  7  8  9 10 11 12 13 14 15 16 17 18 19 20 21 22 23\n",
      " 24 25 26 27 28 29 30 31 32 33 34 35 36 37 38 39 40 41 42 43 44 45 46 47\n",
      " 48 49 50 51 52 53 54] TEST: [55 56 57 58 59 60 61]\n",
      "TRAIN: [ 0  1  2  3  4  5  6  7  8  9 10 11 12 13 14 15 16 17 18 19 20 21 22 23\n",
      " 24 25 26 27 28 29 30 31 32 33 34 35 36 37 38 39 40 41 42 43 44 45 46 47\n",
      " 48 49 50 51 52 53 54 55 56 57 58 59 60 61] TEST: [62 63 64 65 66 67 68]\n"
     ]
    }
   ],
   "source": [
    "y_preds2 = []\n",
    "mapes2 =  []\n",
    "model_coefs2 = []\n",
    "first_test_ind2 = 50000\n",
    "for train_index, test_index in tscv.split(X):\n",
    "    print(\"TRAIN:\", train_index, \"TEST:\", test_index)\n",
    "    if test_index[0] < first_test_ind2:\n",
    "        first_test_ind2=test_index[0]\n",
    "    X_train, X_test = X.iloc[train_index], X.iloc[test_index]\n",
    "    y_train, y_test = y.iloc[train_index], y.iloc[test_index]\n",
    "    model = LinearRegression()\n",
    "    model.fit(X_train, y_train)\n",
    "    model_coefs2.append(model.coef_)\n",
    "    y_pred = model.predict(X_test)\n",
    "    y_pred = np.round(y_pred)\n",
    "    y_preds2.append(y_pred)\n",
    "    mapes2.append(round((abs((y_pred -y_test) / y_test) * 100).mean()))"
   ]
  },
  {
   "cell_type": "code",
   "execution_count": 21,
   "metadata": {},
   "outputs": [
    {
     "data": {
      "text/plain": [
       "6.0"
      ]
     },
     "execution_count": 21,
     "metadata": {},
     "output_type": "execute_result"
    }
   ],
   "source": [
    "np.mean(mapes2)"
   ]
  },
  {
   "cell_type": "code",
   "execution_count": 22,
   "metadata": {},
   "outputs": [
    {
     "name": "stderr",
     "output_type": "stream",
     "text": [
      "No handles with labels found to put in legend.\n"
     ]
    },
    {
     "data": {
      "image/png": "[encoded data removed]",
      "text/plain": [
       "<Figure size 1008x360 with 1 Axes>"
      ]
     },
     "metadata": {
      "needs_background": "light"
     },
     "output_type": "display_data"
    }
   ],
   "source": [
    "fig, ax = plt.subplots(figsize=(14, 5))\n",
    "y_preds2 = [y for x in y_preds2 for y in x]\n",
    "yplot = y[first_test_ind2:]\n",
    "ax.plot(yplot, 'go--')\n",
    "ax.plot(pd.Series(y_preds2, index = yplot.index), 'ro--')\n",
    "\n",
    "plt.title('Actual vs Pred')\n",
    "plt.legend()\n",
    "plt.show()"
   ]
  },
  {
   "cell_type": "code",
   "execution_count": 23,
   "metadata": {},
   "outputs": [
    {
     "data": {
      "text/plain": [
       "[array([ 3.03752596e+00, -2.30603777e+00, -1.17600585e+00,  1.87995202e+00,\n",
       "         3.10954192e+00, -2.57785913e+00, -2.34451313e+00,  1.04558476e+00,\n",
       "        -2.91855429e-12, -1.09704466e+03, -7.06533914e+00,  6.85780717e+00]),\n",
       " array([ 1.22242150e-01,  5.59098968e-02,  1.31776992e-01, -2.88272842e-02,\n",
       "         2.92335746e-01,  7.46828988e-01, -1.17375087e+00, -1.49559873e-01,\n",
       "        -3.93018951e-14,  1.57583970e+02, -1.28793591e+00,  2.09838353e+00]),\n",
       " array([ 1.58479073e-01, -1.36153083e-02,  9.00740851e-02, -8.48245937e-02,\n",
       "         1.58615445e-01, -1.13194040e-01, -1.80972488e-02, -1.12727521e-02,\n",
       "         1.41145658e+03,  2.11367623e+02, -2.29333954e+00,  3.08946887e+00]),\n",
       " array([ 1.68858194e-01, -1.42831814e-02,  8.42717031e-02, -8.52529722e-02,\n",
       "         1.38913383e-01, -1.12212002e-01, -2.55673586e-02,  1.50743336e-02,\n",
       "         1.71979879e+03,  1.83704253e+02, -2.41216168e+00,  3.21549776e+00]),\n",
       " array([ 2.34958853e-01, -2.99105833e-02,  5.44352437e-02, -6.99295209e-02,\n",
       "         1.02056311e-01, -1.07530523e-01, -2.50915473e-02,  4.07743764e-02,\n",
       "         8.99869416e+02,  1.74353731e+02, -2.99140914e+00,  3.79945052e+00]),\n",
       " array([ 1.47463462e-01, -3.75064066e-02, -5.79259077e-02,  4.79010380e-02,\n",
       "         9.69628303e-02, -1.00234689e-01,  4.77926860e-03,  3.79940537e-03,\n",
       "         8.69359970e+02,  2.38294121e+02, -2.67833484e+00,  3.58532959e+00]),\n",
       " array([ 3.02898032e-01, -9.29002232e-02, -1.90288200e-01, -4.02250533e-02,\n",
       "         4.11159293e-02,  2.18997246e-01,  5.50204108e-02, -3.08160774e-02,\n",
       "        -9.22269628e+02,  1.77526853e+02, -3.49762337e+00,  4.25229119e+00]),\n",
       " array([ 5.08646904e-01, -1.65744987e-01, -2.18327580e-01, -1.66785453e-01,\n",
       "         2.72648457e-02,  3.86168975e-01,  4.49831281e-03, -1.22707816e-01,\n",
       "         1.56650617e+03,  1.56287859e+02, -3.36599214e+00,  4.10733114e+00])]"
      ]
     },
     "execution_count": 23,
     "metadata": {},
     "output_type": "execute_result"
    }
   ],
   "source": [
    "model_coefs2"
   ]
  },
  {
   "cell_type": "markdown",
   "metadata": {},
   "source": [
    "### Use second model to predict two weeks out"
   ]
  },
  {
   "cell_type": "code",
   "execution_count": 24,
   "metadata": {},
   "outputs": [
    {
     "name": "stdout",
     "output_type": "stream",
     "text": [
      "TRAIN: [ 0  1  2  3  4  5  6  7  8  9 10 11 12 13 14 15 16 17] TEST: [18 19 20 21 22 23 24 25 26 27 28 29 30 31 32 33 34]\n",
      "TRAIN: [ 0  1  2  3  4  5  6  7  8  9 10 11 12 13 14 15 16 17 18 19 20 21 22 23\n",
      " 24 25 26 27 28 29 30 31 32 33 34] TEST: [35 36 37 38 39 40 41 42 43 44 45 46 47 48 49 50 51]\n",
      "TRAIN: [ 0  1  2  3  4  5  6  7  8  9 10 11 12 13 14 15 16 17 18 19 20 21 22 23\n",
      " 24 25 26 27 28 29 30 31 32 33 34 35 36 37 38 39 40 41 42 43 44 45 46 47\n",
      " 48 49 50 51] TEST: [52 53 54 55 56 57 58 59 60 61 62 63 64 65 66 67 68]\n"
     ]
    }
   ],
   "source": [
    "num_in_test = 14\n",
    "test_size = float(num_in_test) / len(X)\n",
    "n_splits = int((1//test_size)-1)\n",
    "tscv = TimeSeriesSplit(n_splits=n_splits)\n",
    "\n",
    "X = mlr_conf_global_df.drop(columns=['Confirmed','Date'])\n",
    "y = mlr_conf_global_df['Confirmed']\n",
    "y_preds3 = []\n",
    "mapes3 =  []\n",
    "model_coefs3 = []\n",
    "first_test_ind3 = 50000\n",
    "for train_index, test_index in tscv.split(X):\n",
    "    print(\"TRAIN:\", train_index, \"TEST:\", test_index)\n",
    "    if test_index[0] < first_test_ind3:\n",
    "        first_test_ind3=test_index[0]\n",
    "    X_train, X_test = X.iloc[train_index], X.iloc[test_index]\n",
    "    y_train, y_test = y.iloc[train_index], y.iloc[test_index]\n",
    "    model = LinearRegression()\n",
    "    model.fit(X_train, y_train)\n",
    "    model_coefs3.append(model.coef_)\n",
    "    y_pred = model.predict(X_test)\n",
    "    y_pred = np.round(y_pred)\n",
    "    y_preds3.append(y_pred)\n",
    "    mapes3.append(round((abs((y_pred -y_test) / y_test) * 100).mean()))"
   ]
  },
  {
   "cell_type": "code",
   "execution_count": 25,
   "metadata": {},
   "outputs": [
    {
     "data": {
      "text/plain": [
       "7.666666666666667"
      ]
     },
     "execution_count": 25,
     "metadata": {},
     "output_type": "execute_result"
    }
   ],
   "source": [
    "np.mean(mapes3)"
   ]
  },
  {
   "cell_type": "code",
   "execution_count": 26,
   "metadata": {},
   "outputs": [
    {
     "name": "stderr",
     "output_type": "stream",
     "text": [
      "No handles with labels found to put in legend.\n"
     ]
    },
    {
     "data": {
      "image/png": "[encoded data removed]",
      "text/plain": [
       "<Figure size 1008x360 with 1 Axes>"
      ]
     },
     "metadata": {
      "needs_background": "light"
     },
     "output_type": "display_data"
    }
   ],
   "source": [
    "fig, ax = plt.subplots(figsize=(14, 5))\n",
    "y_preds3 = [y for x in y_preds3 for y in x]\n",
    "yplot = y[first_test_ind3:]\n",
    "ax.plot(yplot, 'go--')\n",
    "ax.plot(pd.Series(y_preds3, index = yplot.index), 'ro--')\n",
    "\n",
    "plt.title('Actual vs Pred')\n",
    "plt.legend()\n",
    "plt.show()"
   ]
  },
  {
   "cell_type": "code",
   "execution_count": 27,
   "metadata": {},
   "outputs": [],
   "source": [
    "comparison_df = pd.DataFrame([yplot.values,y_preds3]).transpose()\n",
    "comparison_df.rename(columns={0:'Actual',1:'Forecasted'},inplace=True)\n",
    "comparison_df['abs_resid'] = comparison_df['Actual']-comparison_df['Forecasted']\n",
    "comparison_df['Percent Error'] = 100*(comparison_df['Actual']-comparison_df['Forecasted'])/comparison_df['Actual']"
   ]
  },
  {
   "cell_type": "code",
   "execution_count": 28,
   "metadata": {
    "scrolled": true
   },
   "outputs": [
    {
     "data": {
      "text/html": [
       "<style  type=\"text/css\" >\n",
       "</style><table id=\"T_b25760a6_8044_11ea_8b08_001fbc0f0329\" ><thead>    <tr>        <th class=\"blank level0\" ></th>        <th class=\"col_heading level0 col0\" >Actual</th>        <th class=\"col_heading level0 col1\" >Forecasted</th>        <th class=\"col_heading level0 col2\" >abs_resid</th>        <th class=\"col_heading level0 col3\" >Percent Error</th>    </tr></thead><tbody>\n",
       "                <tr>\n",
       "                        <th id=\"T_b25760a6_8044_11ea_8b08_001fbc0f0329level0_row0\" class=\"row_heading level0 row0\" >0</th>\n",
       "                        <td id=\"T_b25760a6_8044_11ea_8b08_001fbc0f0329row0_col0\" class=\"data row0 col0\" >78267.0</td>\n",
       "                        <td id=\"T_b25760a6_8044_11ea_8b08_001fbc0f0329row0_col1\" class=\"data row0 col1\" >71756.0</td>\n",
       "                        <td id=\"T_b25760a6_8044_11ea_8b08_001fbc0f0329row0_col2\" class=\"data row0 col2\" >6511.0</td>\n",
       "                        <td id=\"T_b25760a6_8044_11ea_8b08_001fbc0f0329row0_col3\" class=\"data row0 col3\" >8.3</td>\n",
       "            </tr>\n",
       "            <tr>\n",
       "                        <th id=\"T_b25760a6_8044_11ea_8b08_001fbc0f0329level0_row1\" class=\"row_heading level0 row1\" >1</th>\n",
       "                        <td id=\"T_b25760a6_8044_11ea_8b08_001fbc0f0329row1_col0\" class=\"data row1 col0\" >78834.0</td>\n",
       "                        <td id=\"T_b25760a6_8044_11ea_8b08_001fbc0f0329row1_col1\" class=\"data row1 col1\" >112380.0</td>\n",
       "                        <td id=\"T_b25760a6_8044_11ea_8b08_001fbc0f0329row1_col2\" class=\"data row1 col2\" >-33546.0</td>\n",
       "                        <td id=\"T_b25760a6_8044_11ea_8b08_001fbc0f0329row1_col3\" class=\"data row1 col3\" >-42.6</td>\n",
       "            </tr>\n",
       "            <tr>\n",
       "                        <th id=\"T_b25760a6_8044_11ea_8b08_001fbc0f0329level0_row2\" class=\"row_heading level0 row2\" >2</th>\n",
       "                        <td id=\"T_b25760a6_8044_11ea_8b08_001fbc0f0329row2_col0\" class=\"data row2 col0\" >79679.0</td>\n",
       "                        <td id=\"T_b25760a6_8044_11ea_8b08_001fbc0f0329row2_col1\" class=\"data row2 col1\" >137011.0</td>\n",
       "                        <td id=\"T_b25760a6_8044_11ea_8b08_001fbc0f0329row2_col2\" class=\"data row2 col2\" >-57332.0</td>\n",
       "                        <td id=\"T_b25760a6_8044_11ea_8b08_001fbc0f0329row2_col3\" class=\"data row2 col3\" >-72.0</td>\n",
       "            </tr>\n",
       "            <tr>\n",
       "                        <th id=\"T_b25760a6_8044_11ea_8b08_001fbc0f0329level0_row3\" class=\"row_heading level0 row3\" >3</th>\n",
       "                        <td id=\"T_b25760a6_8044_11ea_8b08_001fbc0f0329row3_col0\" class=\"data row3 col0\" >80641.0</td>\n",
       "                        <td id=\"T_b25760a6_8044_11ea_8b08_001fbc0f0329row3_col1\" class=\"data row3 col1\" >114043.0</td>\n",
       "                        <td id=\"T_b25760a6_8044_11ea_8b08_001fbc0f0329row3_col2\" class=\"data row3 col2\" >-33402.0</td>\n",
       "                        <td id=\"T_b25760a6_8044_11ea_8b08_001fbc0f0329row3_col3\" class=\"data row3 col3\" >-41.4</td>\n",
       "            </tr>\n",
       "            <tr>\n",
       "                        <th id=\"T_b25760a6_8044_11ea_8b08_001fbc0f0329level0_row4\" class=\"row_heading level0 row4\" >4</th>\n",
       "                        <td id=\"T_b25760a6_8044_11ea_8b08_001fbc0f0329row4_col0\" class=\"data row4 col0\" >81999.0</td>\n",
       "                        <td id=\"T_b25760a6_8044_11ea_8b08_001fbc0f0329row4_col1\" class=\"data row4 col1\" >96421.0</td>\n",
       "                        <td id=\"T_b25760a6_8044_11ea_8b08_001fbc0f0329row4_col2\" class=\"data row4 col2\" >-14422.0</td>\n",
       "                        <td id=\"T_b25760a6_8044_11ea_8b08_001fbc0f0329row4_col3\" class=\"data row4 col3\" >-17.6</td>\n",
       "            </tr>\n",
       "            <tr>\n",
       "                        <th id=\"T_b25760a6_8044_11ea_8b08_001fbc0f0329level0_row5\" class=\"row_heading level0 row5\" >5</th>\n",
       "                        <td id=\"T_b25760a6_8044_11ea_8b08_001fbc0f0329row5_col0\" class=\"data row5 col0\" >83363.0</td>\n",
       "                        <td id=\"T_b25760a6_8044_11ea_8b08_001fbc0f0329row5_col1\" class=\"data row5 col1\" >93888.0</td>\n",
       "                        <td id=\"T_b25760a6_8044_11ea_8b08_001fbc0f0329row5_col2\" class=\"data row5 col2\" >-10525.0</td>\n",
       "                        <td id=\"T_b25760a6_8044_11ea_8b08_001fbc0f0329row5_col3\" class=\"data row5 col3\" >-12.6</td>\n",
       "            </tr>\n",
       "            <tr>\n",
       "                        <th id=\"T_b25760a6_8044_11ea_8b08_001fbc0f0329level0_row6\" class=\"row_heading level0 row6\" >6</th>\n",
       "                        <td id=\"T_b25760a6_8044_11ea_8b08_001fbc0f0329row6_col0\" class=\"data row6 col0\" >85262.0</td>\n",
       "                        <td id=\"T_b25760a6_8044_11ea_8b08_001fbc0f0329row6_col1\" class=\"data row6 col1\" >94319.0</td>\n",
       "                        <td id=\"T_b25760a6_8044_11ea_8b08_001fbc0f0329row6_col2\" class=\"data row6 col2\" >-9057.0</td>\n",
       "                        <td id=\"T_b25760a6_8044_11ea_8b08_001fbc0f0329row6_col3\" class=\"data row6 col3\" >-10.6</td>\n",
       "            </tr>\n",
       "            <tr>\n",
       "                        <th id=\"T_b25760a6_8044_11ea_8b08_001fbc0f0329level0_row7\" class=\"row_heading level0 row7\" >7</th>\n",
       "                        <td id=\"T_b25760a6_8044_11ea_8b08_001fbc0f0329row7_col0\" class=\"data row7 col0\" >87620.0</td>\n",
       "                        <td id=\"T_b25760a6_8044_11ea_8b08_001fbc0f0329row7_col1\" class=\"data row7 col1\" >90890.0</td>\n",
       "                        <td id=\"T_b25760a6_8044_11ea_8b08_001fbc0f0329row7_col2\" class=\"data row7 col2\" >-3270.0</td>\n",
       "                        <td id=\"T_b25760a6_8044_11ea_8b08_001fbc0f0329row7_col3\" class=\"data row7 col3\" >-3.7</td>\n",
       "            </tr>\n",
       "            <tr>\n",
       "                        <th id=\"T_b25760a6_8044_11ea_8b08_001fbc0f0329level0_row8\" class=\"row_heading level0 row8\" >8</th>\n",
       "                        <td id=\"T_b25760a6_8044_11ea_8b08_001fbc0f0329row8_col0\" class=\"data row8 col0\" >89556.0</td>\n",
       "                        <td id=\"T_b25760a6_8044_11ea_8b08_001fbc0f0329row8_col1\" class=\"data row8 col1\" >88670.0</td>\n",
       "                        <td id=\"T_b25760a6_8044_11ea_8b08_001fbc0f0329row8_col2\" class=\"data row8 col2\" >886.0</td>\n",
       "                        <td id=\"T_b25760a6_8044_11ea_8b08_001fbc0f0329row8_col3\" class=\"data row8 col3\" >1.0</td>\n",
       "            </tr>\n",
       "            <tr>\n",
       "                        <th id=\"T_b25760a6_8044_11ea_8b08_001fbc0f0329level0_row9\" class=\"row_heading level0 row9\" >9</th>\n",
       "                        <td id=\"T_b25760a6_8044_11ea_8b08_001fbc0f0329row9_col0\" class=\"data row9 col0\" >92089.0</td>\n",
       "                        <td id=\"T_b25760a6_8044_11ea_8b08_001fbc0f0329row9_col1\" class=\"data row9 col1\" >88541.0</td>\n",
       "                        <td id=\"T_b25760a6_8044_11ea_8b08_001fbc0f0329row9_col2\" class=\"data row9 col2\" >3548.0</td>\n",
       "                        <td id=\"T_b25760a6_8044_11ea_8b08_001fbc0f0329row9_col3\" class=\"data row9 col3\" >3.9</td>\n",
       "            </tr>\n",
       "            <tr>\n",
       "                        <th id=\"T_b25760a6_8044_11ea_8b08_001fbc0f0329level0_row10\" class=\"row_heading level0 row10\" >10</th>\n",
       "                        <td id=\"T_b25760a6_8044_11ea_8b08_001fbc0f0329row10_col0\" class=\"data row10 col0\" >94369.0</td>\n",
       "                        <td id=\"T_b25760a6_8044_11ea_8b08_001fbc0f0329row10_col1\" class=\"data row10 col1\" >92825.0</td>\n",
       "                        <td id=\"T_b25760a6_8044_11ea_8b08_001fbc0f0329row10_col2\" class=\"data row10 col2\" >1544.0</td>\n",
       "                        <td id=\"T_b25760a6_8044_11ea_8b08_001fbc0f0329row10_col3\" class=\"data row10 col3\" >1.6</td>\n",
       "            </tr>\n",
       "            <tr>\n",
       "                        <th id=\"T_b25760a6_8044_11ea_8b08_001fbc0f0329level0_row11\" class=\"row_heading level0 row11\" >11</th>\n",
       "                        <td id=\"T_b25760a6_8044_11ea_8b08_001fbc0f0329row11_col0\" class=\"data row11 col0\" >97135.0</td>\n",
       "                        <td id=\"T_b25760a6_8044_11ea_8b08_001fbc0f0329row11_col1\" class=\"data row11 col1\" >93097.0</td>\n",
       "                        <td id=\"T_b25760a6_8044_11ea_8b08_001fbc0f0329row11_col2\" class=\"data row11 col2\" >4038.0</td>\n",
       "                        <td id=\"T_b25760a6_8044_11ea_8b08_001fbc0f0329row11_col3\" class=\"data row11 col3\" >4.2</td>\n",
       "            </tr>\n",
       "            <tr>\n",
       "                        <th id=\"T_b25760a6_8044_11ea_8b08_001fbc0f0329level0_row12\" class=\"row_heading level0 row12\" >12</th>\n",
       "                        <td id=\"T_b25760a6_8044_11ea_8b08_001fbc0f0329row12_col0\" class=\"data row12 col0\" >101050.0</td>\n",
       "                        <td id=\"T_b25760a6_8044_11ea_8b08_001fbc0f0329row12_col1\" class=\"data row12 col1\" >91017.0</td>\n",
       "                        <td id=\"T_b25760a6_8044_11ea_8b08_001fbc0f0329row12_col2\" class=\"data row12 col2\" >10033.0</td>\n",
       "                        <td id=\"T_b25760a6_8044_11ea_8b08_001fbc0f0329row12_col3\" class=\"data row12 col3\" >9.9</td>\n",
       "            </tr>\n",
       "            <tr>\n",
       "                        <th id=\"T_b25760a6_8044_11ea_8b08_001fbc0f0329level0_row13\" class=\"row_heading level0 row13\" >13</th>\n",
       "                        <td id=\"T_b25760a6_8044_11ea_8b08_001fbc0f0329row13_col0\" class=\"data row13 col0\" >105075.0</td>\n",
       "                        <td id=\"T_b25760a6_8044_11ea_8b08_001fbc0f0329row13_col1\" class=\"data row13 col1\" >92179.0</td>\n",
       "                        <td id=\"T_b25760a6_8044_11ea_8b08_001fbc0f0329row13_col2\" class=\"data row13 col2\" >12896.0</td>\n",
       "                        <td id=\"T_b25760a6_8044_11ea_8b08_001fbc0f0329row13_col3\" class=\"data row13 col3\" >12.3</td>\n",
       "            </tr>\n",
       "            <tr>\n",
       "                        <th id=\"T_b25760a6_8044_11ea_8b08_001fbc0f0329level0_row14\" class=\"row_heading level0 row14\" >14</th>\n",
       "                        <td id=\"T_b25760a6_8044_11ea_8b08_001fbc0f0329row14_col0\" class=\"data row14 col0\" >109047.0</td>\n",
       "                        <td id=\"T_b25760a6_8044_11ea_8b08_001fbc0f0329row14_col1\" class=\"data row14 col1\" >94417.0</td>\n",
       "                        <td id=\"T_b25760a6_8044_11ea_8b08_001fbc0f0329row14_col2\" class=\"data row14 col2\" >14630.0</td>\n",
       "                        <td id=\"T_b25760a6_8044_11ea_8b08_001fbc0f0329row14_col3\" class=\"data row14 col3\" >13.4</td>\n",
       "            </tr>\n",
       "            <tr>\n",
       "                        <th id=\"T_b25760a6_8044_11ea_8b08_001fbc0f0329level0_row15\" class=\"row_heading level0 row15\" >15</th>\n",
       "                        <td id=\"T_b25760a6_8044_11ea_8b08_001fbc0f0329row15_col0\" class=\"data row15 col0\" >112815.0</td>\n",
       "                        <td id=\"T_b25760a6_8044_11ea_8b08_001fbc0f0329row15_col1\" class=\"data row15 col1\" >98084.0</td>\n",
       "                        <td id=\"T_b25760a6_8044_11ea_8b08_001fbc0f0329row15_col2\" class=\"data row15 col2\" >14731.0</td>\n",
       "                        <td id=\"T_b25760a6_8044_11ea_8b08_001fbc0f0329row15_col3\" class=\"data row15 col3\" >13.1</td>\n",
       "            </tr>\n",
       "            <tr>\n",
       "                        <th id=\"T_b25760a6_8044_11ea_8b08_001fbc0f0329level0_row16\" class=\"row_heading level0 row16\" >16</th>\n",
       "                        <td id=\"T_b25760a6_8044_11ea_8b08_001fbc0f0329row16_col0\" class=\"data row16 col0\" >117663.0</td>\n",
       "                        <td id=\"T_b25760a6_8044_11ea_8b08_001fbc0f0329row16_col1\" class=\"data row16 col1\" >100683.0</td>\n",
       "                        <td id=\"T_b25760a6_8044_11ea_8b08_001fbc0f0329row16_col2\" class=\"data row16 col2\" >16980.0</td>\n",
       "                        <td id=\"T_b25760a6_8044_11ea_8b08_001fbc0f0329row16_col3\" class=\"data row16 col3\" >14.4</td>\n",
       "            </tr>\n",
       "            <tr>\n",
       "                        <th id=\"T_b25760a6_8044_11ea_8b08_001fbc0f0329level0_row17\" class=\"row_heading level0 row17\" >17</th>\n",
       "                        <td id=\"T_b25760a6_8044_11ea_8b08_001fbc0f0329row17_col0\" class=\"data row17 col0\" >124993.0</td>\n",
       "                        <td id=\"T_b25760a6_8044_11ea_8b08_001fbc0f0329row17_col1\" class=\"data row17 col1\" >122650.0</td>\n",
       "                        <td id=\"T_b25760a6_8044_11ea_8b08_001fbc0f0329row17_col2\" class=\"data row17 col2\" >2343.0</td>\n",
       "                        <td id=\"T_b25760a6_8044_11ea_8b08_001fbc0f0329row17_col3\" class=\"data row17 col3\" >1.9</td>\n",
       "            </tr>\n",
       "            <tr>\n",
       "                        <th id=\"T_b25760a6_8044_11ea_8b08_001fbc0f0329level0_row18\" class=\"row_heading level0 row18\" >18</th>\n",
       "                        <td id=\"T_b25760a6_8044_11ea_8b08_001fbc0f0329row18_col0\" class=\"data row18 col0\" >127540.0</td>\n",
       "                        <td id=\"T_b25760a6_8044_11ea_8b08_001fbc0f0329row18_col1\" class=\"data row18 col1\" >127285.0</td>\n",
       "                        <td id=\"T_b25760a6_8044_11ea_8b08_001fbc0f0329row18_col2\" class=\"data row18 col2\" >255.0</td>\n",
       "                        <td id=\"T_b25760a6_8044_11ea_8b08_001fbc0f0329row18_col3\" class=\"data row18 col3\" >0.2</td>\n",
       "            </tr>\n",
       "            <tr>\n",
       "                        <th id=\"T_b25760a6_8044_11ea_8b08_001fbc0f0329level0_row19\" class=\"row_heading level0 row19\" >19</th>\n",
       "                        <td id=\"T_b25760a6_8044_11ea_8b08_001fbc0f0329row19_col0\" class=\"data row19 col0\" >144467.0</td>\n",
       "                        <td id=\"T_b25760a6_8044_11ea_8b08_001fbc0f0329row19_col1\" class=\"data row19 col1\" >137625.0</td>\n",
       "                        <td id=\"T_b25760a6_8044_11ea_8b08_001fbc0f0329row19_col2\" class=\"data row19 col2\" >6842.0</td>\n",
       "                        <td id=\"T_b25760a6_8044_11ea_8b08_001fbc0f0329row19_col3\" class=\"data row19 col3\" >4.7</td>\n",
       "            </tr>\n",
       "            <tr>\n",
       "                        <th id=\"T_b25760a6_8044_11ea_8b08_001fbc0f0329level0_row20\" class=\"row_heading level0 row20\" >20</th>\n",
       "                        <td id=\"T_b25760a6_8044_11ea_8b08_001fbc0f0329row20_col0\" class=\"data row20 col0\" >155525.0</td>\n",
       "                        <td id=\"T_b25760a6_8044_11ea_8b08_001fbc0f0329row20_col1\" class=\"data row20 col1\" >149639.0</td>\n",
       "                        <td id=\"T_b25760a6_8044_11ea_8b08_001fbc0f0329row20_col2\" class=\"data row20 col2\" >5886.0</td>\n",
       "                        <td id=\"T_b25760a6_8044_11ea_8b08_001fbc0f0329row20_col3\" class=\"data row20 col3\" >3.8</td>\n",
       "            </tr>\n",
       "            <tr>\n",
       "                        <th id=\"T_b25760a6_8044_11ea_8b08_001fbc0f0329level0_row21\" class=\"row_heading level0 row21\" >21</th>\n",
       "                        <td id=\"T_b25760a6_8044_11ea_8b08_001fbc0f0329row21_col0\" class=\"data row21 col0\" >166167.0</td>\n",
       "                        <td id=\"T_b25760a6_8044_11ea_8b08_001fbc0f0329row21_col1\" class=\"data row21 col1\" >162085.0</td>\n",
       "                        <td id=\"T_b25760a6_8044_11ea_8b08_001fbc0f0329row21_col2\" class=\"data row21 col2\" >4082.0</td>\n",
       "                        <td id=\"T_b25760a6_8044_11ea_8b08_001fbc0f0329row21_col3\" class=\"data row21 col3\" >2.5</td>\n",
       "            </tr>\n",
       "            <tr>\n",
       "                        <th id=\"T_b25760a6_8044_11ea_8b08_001fbc0f0329level0_row22\" class=\"row_heading level0 row22\" >22</th>\n",
       "                        <td id=\"T_b25760a6_8044_11ea_8b08_001fbc0f0329row22_col0\" class=\"data row22 col0\" >180543.0</td>\n",
       "                        <td id=\"T_b25760a6_8044_11ea_8b08_001fbc0f0329row22_col1\" class=\"data row22 col1\" >174686.0</td>\n",
       "                        <td id=\"T_b25760a6_8044_11ea_8b08_001fbc0f0329row22_col2\" class=\"data row22 col2\" >5857.0</td>\n",
       "                        <td id=\"T_b25760a6_8044_11ea_8b08_001fbc0f0329row22_col3\" class=\"data row22 col3\" >3.2</td>\n",
       "            </tr>\n",
       "            <tr>\n",
       "                        <th id=\"T_b25760a6_8044_11ea_8b08_001fbc0f0329level0_row23\" class=\"row_heading level0 row23\" >23</th>\n",
       "                        <td id=\"T_b25760a6_8044_11ea_8b08_001fbc0f0329row23_col0\" class=\"data row23 col0\" >196071.0</td>\n",
       "                        <td id=\"T_b25760a6_8044_11ea_8b08_001fbc0f0329row23_col1\" class=\"data row23 col1\" >189727.0</td>\n",
       "                        <td id=\"T_b25760a6_8044_11ea_8b08_001fbc0f0329row23_col2\" class=\"data row23 col2\" >6344.0</td>\n",
       "                        <td id=\"T_b25760a6_8044_11ea_8b08_001fbc0f0329row23_col3\" class=\"data row23 col3\" >3.2</td>\n",
       "            </tr>\n",
       "            <tr>\n",
       "                        <th id=\"T_b25760a6_8044_11ea_8b08_001fbc0f0329level0_row24\" class=\"row_heading level0 row24\" >24</th>\n",
       "                        <td id=\"T_b25760a6_8044_11ea_8b08_001fbc0f0329row24_col0\" class=\"data row24 col0\" >215199.0</td>\n",
       "                        <td id=\"T_b25760a6_8044_11ea_8b08_001fbc0f0329row24_col1\" class=\"data row24 col1\" >207370.0</td>\n",
       "                        <td id=\"T_b25760a6_8044_11ea_8b08_001fbc0f0329row24_col2\" class=\"data row24 col2\" >7829.0</td>\n",
       "                        <td id=\"T_b25760a6_8044_11ea_8b08_001fbc0f0329row24_col3\" class=\"data row24 col3\" >3.6</td>\n",
       "            </tr>\n",
       "            <tr>\n",
       "                        <th id=\"T_b25760a6_8044_11ea_8b08_001fbc0f0329level0_row25\" class=\"row_heading level0 row25\" >25</th>\n",
       "                        <td id=\"T_b25760a6_8044_11ea_8b08_001fbc0f0329row25_col0\" class=\"data row25 col0\" >242205.0</td>\n",
       "                        <td id=\"T_b25760a6_8044_11ea_8b08_001fbc0f0329row25_col1\" class=\"data row25 col1\" >227113.0</td>\n",
       "                        <td id=\"T_b25760a6_8044_11ea_8b08_001fbc0f0329row25_col2\" class=\"data row25 col2\" >15092.0</td>\n",
       "                        <td id=\"T_b25760a6_8044_11ea_8b08_001fbc0f0329row25_col3\" class=\"data row25 col3\" >6.2</td>\n",
       "            </tr>\n",
       "            <tr>\n",
       "                        <th id=\"T_b25760a6_8044_11ea_8b08_001fbc0f0329level0_row26\" class=\"row_heading level0 row26\" >26</th>\n",
       "                        <td id=\"T_b25760a6_8044_11ea_8b08_001fbc0f0329row26_col0\" class=\"data row26 col0\" >271626.0</td>\n",
       "                        <td id=\"T_b25760a6_8044_11ea_8b08_001fbc0f0329row26_col1\" class=\"data row26 col1\" >255883.0</td>\n",
       "                        <td id=\"T_b25760a6_8044_11ea_8b08_001fbc0f0329row26_col2\" class=\"data row26 col2\" >15743.0</td>\n",
       "                        <td id=\"T_b25760a6_8044_11ea_8b08_001fbc0f0329row26_col3\" class=\"data row26 col3\" >5.8</td>\n",
       "            </tr>\n",
       "            <tr>\n",
       "                        <th id=\"T_b25760a6_8044_11ea_8b08_001fbc0f0329level0_row27\" class=\"row_heading level0 row27\" >27</th>\n",
       "                        <td id=\"T_b25760a6_8044_11ea_8b08_001fbc0f0329row27_col0\" class=\"data row27 col0\" >303920.0</td>\n",
       "                        <td id=\"T_b25760a6_8044_11ea_8b08_001fbc0f0329row27_col1\" class=\"data row27 col1\" >286938.0</td>\n",
       "                        <td id=\"T_b25760a6_8044_11ea_8b08_001fbc0f0329row27_col2\" class=\"data row27 col2\" >16982.0</td>\n",
       "                        <td id=\"T_b25760a6_8044_11ea_8b08_001fbc0f0329row27_col3\" class=\"data row27 col3\" >5.6</td>\n",
       "            </tr>\n",
       "            <tr>\n",
       "                        <th id=\"T_b25760a6_8044_11ea_8b08_001fbc0f0329level0_row28\" class=\"row_heading level0 row28\" >28</th>\n",
       "                        <td id=\"T_b25760a6_8044_11ea_8b08_001fbc0f0329row28_col0\" class=\"data row28 col0\" >336599.0</td>\n",
       "                        <td id=\"T_b25760a6_8044_11ea_8b08_001fbc0f0329row28_col1\" class=\"data row28 col1\" >321534.0</td>\n",
       "                        <td id=\"T_b25760a6_8044_11ea_8b08_001fbc0f0329row28_col2\" class=\"data row28 col2\" >15065.0</td>\n",
       "                        <td id=\"T_b25760a6_8044_11ea_8b08_001fbc0f0329row28_col3\" class=\"data row28 col3\" >4.5</td>\n",
       "            </tr>\n",
       "            <tr>\n",
       "                        <th id=\"T_b25760a6_8044_11ea_8b08_001fbc0f0329level0_row29\" class=\"row_heading level0 row29\" >29</th>\n",
       "                        <td id=\"T_b25760a6_8044_11ea_8b08_001fbc0f0329row29_col0\" class=\"data row29 col0\" >377339.0</td>\n",
       "                        <td id=\"T_b25760a6_8044_11ea_8b08_001fbc0f0329row29_col1\" class=\"data row29 col1\" >357112.0</td>\n",
       "                        <td id=\"T_b25760a6_8044_11ea_8b08_001fbc0f0329row29_col2\" class=\"data row29 col2\" >20227.0</td>\n",
       "                        <td id=\"T_b25760a6_8044_11ea_8b08_001fbc0f0329row29_col3\" class=\"data row29 col3\" >5.4</td>\n",
       "            </tr>\n",
       "            <tr>\n",
       "                        <th id=\"T_b25760a6_8044_11ea_8b08_001fbc0f0329level0_row30\" class=\"row_heading level0 row30\" >30</th>\n",
       "                        <td id=\"T_b25760a6_8044_11ea_8b08_001fbc0f0329row30_col0\" class=\"data row30 col0\" >417329.0</td>\n",
       "                        <td id=\"T_b25760a6_8044_11ea_8b08_001fbc0f0329row30_col1\" class=\"data row30 col1\" >397779.0</td>\n",
       "                        <td id=\"T_b25760a6_8044_11ea_8b08_001fbc0f0329row30_col2\" class=\"data row30 col2\" >19550.0</td>\n",
       "                        <td id=\"T_b25760a6_8044_11ea_8b08_001fbc0f0329row30_col3\" class=\"data row30 col3\" >4.7</td>\n",
       "            </tr>\n",
       "            <tr>\n",
       "                        <th id=\"T_b25760a6_8044_11ea_8b08_001fbc0f0329level0_row31\" class=\"row_heading level0 row31\" >31</th>\n",
       "                        <td id=\"T_b25760a6_8044_11ea_8b08_001fbc0f0329row31_col0\" class=\"data row31 col0\" >466941.0</td>\n",
       "                        <td id=\"T_b25760a6_8044_11ea_8b08_001fbc0f0329row31_col1\" class=\"data row31 col1\" >441349.0</td>\n",
       "                        <td id=\"T_b25760a6_8044_11ea_8b08_001fbc0f0329row31_col2\" class=\"data row31 col2\" >25592.0</td>\n",
       "                        <td id=\"T_b25760a6_8044_11ea_8b08_001fbc0f0329row31_col3\" class=\"data row31 col3\" >5.5</td>\n",
       "            </tr>\n",
       "            <tr>\n",
       "                        <th id=\"T_b25760a6_8044_11ea_8b08_001fbc0f0329level0_row32\" class=\"row_heading level0 row32\" >32</th>\n",
       "                        <td id=\"T_b25760a6_8044_11ea_8b08_001fbc0f0329row32_col0\" class=\"data row32 col0\" >528879.0</td>\n",
       "                        <td id=\"T_b25760a6_8044_11ea_8b08_001fbc0f0329row32_col1\" class=\"data row32 col1\" >494977.0</td>\n",
       "                        <td id=\"T_b25760a6_8044_11ea_8b08_001fbc0f0329row32_col2\" class=\"data row32 col2\" >33902.0</td>\n",
       "                        <td id=\"T_b25760a6_8044_11ea_8b08_001fbc0f0329row32_col3\" class=\"data row32 col3\" >6.4</td>\n",
       "            </tr>\n",
       "            <tr>\n",
       "                        <th id=\"T_b25760a6_8044_11ea_8b08_001fbc0f0329level0_row33\" class=\"row_heading level0 row33\" >33</th>\n",
       "                        <td id=\"T_b25760a6_8044_11ea_8b08_001fbc0f0329row33_col0\" class=\"data row33 col0\" >592579.0</td>\n",
       "                        <td id=\"T_b25760a6_8044_11ea_8b08_001fbc0f0329row33_col1\" class=\"data row33 col1\" >556649.0</td>\n",
       "                        <td id=\"T_b25760a6_8044_11ea_8b08_001fbc0f0329row33_col2\" class=\"data row33 col2\" >35930.0</td>\n",
       "                        <td id=\"T_b25760a6_8044_11ea_8b08_001fbc0f0329row33_col3\" class=\"data row33 col3\" >6.1</td>\n",
       "            </tr>\n",
       "            <tr>\n",
       "                        <th id=\"T_b25760a6_8044_11ea_8b08_001fbc0f0329level0_row34\" class=\"row_heading level0 row34\" >34</th>\n",
       "                        <td id=\"T_b25760a6_8044_11ea_8b08_001fbc0f0329row34_col0\" class=\"data row34 col0\" >659979.0</td>\n",
       "                        <td id=\"T_b25760a6_8044_11ea_8b08_001fbc0f0329row34_col1\" class=\"data row34 col1\" >663860.0</td>\n",
       "                        <td id=\"T_b25760a6_8044_11ea_8b08_001fbc0f0329row34_col2\" class=\"data row34 col2\" >-3881.0</td>\n",
       "                        <td id=\"T_b25760a6_8044_11ea_8b08_001fbc0f0329row34_col3\" class=\"data row34 col3\" >-0.6</td>\n",
       "            </tr>\n",
       "            <tr>\n",
       "                        <th id=\"T_b25760a6_8044_11ea_8b08_001fbc0f0329level0_row35\" class=\"row_heading level0 row35\" >35</th>\n",
       "                        <td id=\"T_b25760a6_8044_11ea_8b08_001fbc0f0329row35_col0\" class=\"data row35 col0\" >719426.0</td>\n",
       "                        <td id=\"T_b25760a6_8044_11ea_8b08_001fbc0f0329row35_col1\" class=\"data row35 col1\" >732924.0</td>\n",
       "                        <td id=\"T_b25760a6_8044_11ea_8b08_001fbc0f0329row35_col2\" class=\"data row35 col2\" >-13498.0</td>\n",
       "                        <td id=\"T_b25760a6_8044_11ea_8b08_001fbc0f0329row35_col3\" class=\"data row35 col3\" >-1.9</td>\n",
       "            </tr>\n",
       "            <tr>\n",
       "                        <th id=\"T_b25760a6_8044_11ea_8b08_001fbc0f0329level0_row36\" class=\"row_heading level0 row36\" >36</th>\n",
       "                        <td id=\"T_b25760a6_8044_11ea_8b08_001fbc0f0329row36_col0\" class=\"data row36 col0\" >781675.0</td>\n",
       "                        <td id=\"T_b25760a6_8044_11ea_8b08_001fbc0f0329row36_col1\" class=\"data row36 col1\" >800174.0</td>\n",
       "                        <td id=\"T_b25760a6_8044_11ea_8b08_001fbc0f0329row36_col2\" class=\"data row36 col2\" >-18499.0</td>\n",
       "                        <td id=\"T_b25760a6_8044_11ea_8b08_001fbc0f0329row36_col3\" class=\"data row36 col3\" >-2.4</td>\n",
       "            </tr>\n",
       "            <tr>\n",
       "                        <th id=\"T_b25760a6_8044_11ea_8b08_001fbc0f0329level0_row37\" class=\"row_heading level0 row37\" >37</th>\n",
       "                        <td id=\"T_b25760a6_8044_11ea_8b08_001fbc0f0329row37_col0\" class=\"data row37 col0\" >856773.0</td>\n",
       "                        <td id=\"T_b25760a6_8044_11ea_8b08_001fbc0f0329row37_col1\" class=\"data row37 col1\" >870959.0</td>\n",
       "                        <td id=\"T_b25760a6_8044_11ea_8b08_001fbc0f0329row37_col2\" class=\"data row37 col2\" >-14186.0</td>\n",
       "                        <td id=\"T_b25760a6_8044_11ea_8b08_001fbc0f0329row37_col3\" class=\"data row37 col3\" >-1.7</td>\n",
       "            </tr>\n",
       "            <tr>\n",
       "                        <th id=\"T_b25760a6_8044_11ea_8b08_001fbc0f0329level0_row38\" class=\"row_heading level0 row38\" >38</th>\n",
       "                        <td id=\"T_b25760a6_8044_11ea_8b08_001fbc0f0329row38_col0\" class=\"data row38 col0\" >931874.0</td>\n",
       "                        <td id=\"T_b25760a6_8044_11ea_8b08_001fbc0f0329row38_col1\" class=\"data row38 col1\" >945865.0</td>\n",
       "                        <td id=\"T_b25760a6_8044_11ea_8b08_001fbc0f0329row38_col2\" class=\"data row38 col2\" >-13991.0</td>\n",
       "                        <td id=\"T_b25760a6_8044_11ea_8b08_001fbc0f0329row38_col3\" class=\"data row38 col3\" >-1.5</td>\n",
       "            </tr>\n",
       "            <tr>\n",
       "                        <th id=\"T_b25760a6_8044_11ea_8b08_001fbc0f0329level0_row39\" class=\"row_heading level0 row39\" >39</th>\n",
       "                        <td id=\"T_b25760a6_8044_11ea_8b08_001fbc0f0329row39_col0\" class=\"data row39 col0\" >1012745.0</td>\n",
       "                        <td id=\"T_b25760a6_8044_11ea_8b08_001fbc0f0329row39_col1\" class=\"data row39 col1\" >1027268.0</td>\n",
       "                        <td id=\"T_b25760a6_8044_11ea_8b08_001fbc0f0329row39_col2\" class=\"data row39 col2\" >-14523.0</td>\n",
       "                        <td id=\"T_b25760a6_8044_11ea_8b08_001fbc0f0329row39_col3\" class=\"data row39 col3\" >-1.4</td>\n",
       "            </tr>\n",
       "            <tr>\n",
       "                        <th id=\"T_b25760a6_8044_11ea_8b08_001fbc0f0329level0_row40\" class=\"row_heading level0 row40\" >40</th>\n",
       "                        <td id=\"T_b25760a6_8044_11ea_8b08_001fbc0f0329row40_col0\" class=\"data row40 col0\" >1095192.0</td>\n",
       "                        <td id=\"T_b25760a6_8044_11ea_8b08_001fbc0f0329row40_col1\" class=\"data row40 col1\" >1112107.0</td>\n",
       "                        <td id=\"T_b25760a6_8044_11ea_8b08_001fbc0f0329row40_col2\" class=\"data row40 col2\" >-16915.0</td>\n",
       "                        <td id=\"T_b25760a6_8044_11ea_8b08_001fbc0f0329row40_col3\" class=\"data row40 col3\" >-1.5</td>\n",
       "            </tr>\n",
       "            <tr>\n",
       "                        <th id=\"T_b25760a6_8044_11ea_8b08_001fbc0f0329level0_row41\" class=\"row_heading level0 row41\" >41</th>\n",
       "                        <td id=\"T_b25760a6_8044_11ea_8b08_001fbc0f0329row41_col0\" class=\"data row41 col0\" >1196682.0</td>\n",
       "                        <td id=\"T_b25760a6_8044_11ea_8b08_001fbc0f0329row41_col1\" class=\"data row41 col1\" >1211163.0</td>\n",
       "                        <td id=\"T_b25760a6_8044_11ea_8b08_001fbc0f0329row41_col2\" class=\"data row41 col2\" >-14481.0</td>\n",
       "                        <td id=\"T_b25760a6_8044_11ea_8b08_001fbc0f0329row41_col3\" class=\"data row41 col3\" >-1.2</td>\n",
       "            </tr>\n",
       "            <tr>\n",
       "                        <th id=\"T_b25760a6_8044_11ea_8b08_001fbc0f0329level0_row42\" class=\"row_heading level0 row42\" >42</th>\n",
       "                        <td id=\"T_b25760a6_8044_11ea_8b08_001fbc0f0329row42_col0\" class=\"data row42 col0\" >1271387.0</td>\n",
       "                        <td id=\"T_b25760a6_8044_11ea_8b08_001fbc0f0329row42_col1\" class=\"data row42 col1\" >1300715.0</td>\n",
       "                        <td id=\"T_b25760a6_8044_11ea_8b08_001fbc0f0329row42_col2\" class=\"data row42 col2\" >-29328.0</td>\n",
       "                        <td id=\"T_b25760a6_8044_11ea_8b08_001fbc0f0329row42_col3\" class=\"data row42 col3\" >-2.3</td>\n",
       "            </tr>\n",
       "            <tr>\n",
       "                        <th id=\"T_b25760a6_8044_11ea_8b08_001fbc0f0329level0_row43\" class=\"row_heading level0 row43\" >43</th>\n",
       "                        <td id=\"T_b25760a6_8044_11ea_8b08_001fbc0f0329row43_col0\" class=\"data row43 col0\" >1344373.0</td>\n",
       "                        <td id=\"T_b25760a6_8044_11ea_8b08_001fbc0f0329row43_col1\" class=\"data row43 col1\" >1379836.0</td>\n",
       "                        <td id=\"T_b25760a6_8044_11ea_8b08_001fbc0f0329row43_col2\" class=\"data row43 col2\" >-35463.0</td>\n",
       "                        <td id=\"T_b25760a6_8044_11ea_8b08_001fbc0f0329row43_col3\" class=\"data row43 col3\" >-2.6</td>\n",
       "            </tr>\n",
       "            <tr>\n",
       "                        <th id=\"T_b25760a6_8044_11ea_8b08_001fbc0f0329level0_row44\" class=\"row_heading level0 row44\" >44</th>\n",
       "                        <td id=\"T_b25760a6_8044_11ea_8b08_001fbc0f0329row44_col0\" class=\"data row44 col0\" >1425373.0</td>\n",
       "                        <td id=\"T_b25760a6_8044_11ea_8b08_001fbc0f0329row44_col1\" class=\"data row44 col1\" >1463175.0</td>\n",
       "                        <td id=\"T_b25760a6_8044_11ea_8b08_001fbc0f0329row44_col2\" class=\"data row44 col2\" >-37802.0</td>\n",
       "                        <td id=\"T_b25760a6_8044_11ea_8b08_001fbc0f0329row44_col3\" class=\"data row44 col3\" >-2.7</td>\n",
       "            </tr>\n",
       "            <tr>\n",
       "                        <th id=\"T_b25760a6_8044_11ea_8b08_001fbc0f0329level0_row45\" class=\"row_heading level0 row45\" >45</th>\n",
       "                        <td id=\"T_b25760a6_8044_11ea_8b08_001fbc0f0329row45_col0\" class=\"data row45 col0\" >1510378.0</td>\n",
       "                        <td id=\"T_b25760a6_8044_11ea_8b08_001fbc0f0329row45_col1\" class=\"data row45 col1\" >1544473.0</td>\n",
       "                        <td id=\"T_b25760a6_8044_11ea_8b08_001fbc0f0329row45_col2\" class=\"data row45 col2\" >-34095.0</td>\n",
       "                        <td id=\"T_b25760a6_8044_11ea_8b08_001fbc0f0329row45_col3\" class=\"data row45 col3\" >-2.3</td>\n",
       "            </tr>\n",
       "            <tr>\n",
       "                        <th id=\"T_b25760a6_8044_11ea_8b08_001fbc0f0329level0_row46\" class=\"row_heading level0 row46\" >46</th>\n",
       "                        <td id=\"T_b25760a6_8044_11ea_8b08_001fbc0f0329row46_col0\" class=\"data row46 col0\" >1594624.0</td>\n",
       "                        <td id=\"T_b25760a6_8044_11ea_8b08_001fbc0f0329row46_col1\" class=\"data row46 col1\" >1626181.0</td>\n",
       "                        <td id=\"T_b25760a6_8044_11ea_8b08_001fbc0f0329row46_col2\" class=\"data row46 col2\" >-31557.0</td>\n",
       "                        <td id=\"T_b25760a6_8044_11ea_8b08_001fbc0f0329row46_col3\" class=\"data row46 col3\" >-2.0</td>\n",
       "            </tr>\n",
       "            <tr>\n",
       "                        <th id=\"T_b25760a6_8044_11ea_8b08_001fbc0f0329level0_row47\" class=\"row_heading level0 row47\" >47</th>\n",
       "                        <td id=\"T_b25760a6_8044_11ea_8b08_001fbc0f0329row47_col0\" class=\"data row47 col0\" >1690993.0</td>\n",
       "                        <td id=\"T_b25760a6_8044_11ea_8b08_001fbc0f0329row47_col1\" class=\"data row47 col1\" >1714117.0</td>\n",
       "                        <td id=\"T_b25760a6_8044_11ea_8b08_001fbc0f0329row47_col2\" class=\"data row47 col2\" >-23124.0</td>\n",
       "                        <td id=\"T_b25760a6_8044_11ea_8b08_001fbc0f0329row47_col3\" class=\"data row47 col3\" >-1.4</td>\n",
       "            </tr>\n",
       "            <tr>\n",
       "                        <th id=\"T_b25760a6_8044_11ea_8b08_001fbc0f0329level0_row48\" class=\"row_heading level0 row48\" >48</th>\n",
       "                        <td id=\"T_b25760a6_8044_11ea_8b08_001fbc0f0329row48_col0\" class=\"data row48 col0\" >1770788.0</td>\n",
       "                        <td id=\"T_b25760a6_8044_11ea_8b08_001fbc0f0329row48_col1\" class=\"data row48 col1\" >1808740.0</td>\n",
       "                        <td id=\"T_b25760a6_8044_11ea_8b08_001fbc0f0329row48_col2\" class=\"data row48 col2\" >-37952.0</td>\n",
       "                        <td id=\"T_b25760a6_8044_11ea_8b08_001fbc0f0329row48_col3\" class=\"data row48 col3\" >-2.1</td>\n",
       "            </tr>\n",
       "            <tr>\n",
       "                        <th id=\"T_b25760a6_8044_11ea_8b08_001fbc0f0329level0_row49\" class=\"row_heading level0 row49\" >49</th>\n",
       "                        <td id=\"T_b25760a6_8044_11ea_8b08_001fbc0f0329row49_col0\" class=\"data row49 col0\" >1845950.0</td>\n",
       "                        <td id=\"T_b25760a6_8044_11ea_8b08_001fbc0f0329row49_col1\" class=\"data row49 col1\" >1891559.0</td>\n",
       "                        <td id=\"T_b25760a6_8044_11ea_8b08_001fbc0f0329row49_col2\" class=\"data row49 col2\" >-45609.0</td>\n",
       "                        <td id=\"T_b25760a6_8044_11ea_8b08_001fbc0f0329row49_col3\" class=\"data row49 col3\" >-2.5</td>\n",
       "            </tr>\n",
       "            <tr>\n",
       "                        <th id=\"T_b25760a6_8044_11ea_8b08_001fbc0f0329level0_row50\" class=\"row_heading level0 row50\" >50</th>\n",
       "                        <td id=\"T_b25760a6_8044_11ea_8b08_001fbc0f0329row50_col0\" class=\"data row50 col0\" >1916203.0</td>\n",
       "                        <td id=\"T_b25760a6_8044_11ea_8b08_001fbc0f0329row50_col1\" class=\"data row50 col1\" >1963553.0</td>\n",
       "                        <td id=\"T_b25760a6_8044_11ea_8b08_001fbc0f0329row50_col2\" class=\"data row50 col2\" >-47350.0</td>\n",
       "                        <td id=\"T_b25760a6_8044_11ea_8b08_001fbc0f0329row50_col3\" class=\"data row50 col3\" >-2.5</td>\n",
       "            </tr>\n",
       "    </tbody></table>"
      ],
      "text/plain": [
       "<pandas.io.formats.style.Styler at 0x20300838b70>"
      ]
     },
     "execution_count": 28,
     "metadata": {},
     "output_type": "execute_result"
    }
   ],
   "source": [
    "comparison_df.style.format(\"{:.1f}\")"
   ]
  },
  {
   "cell_type": "markdown",
   "metadata": {},
   "source": [
    "### Holt Linear Model"
   ]
  },
  {
   "cell_type": "code",
   "execution_count": 29,
   "metadata": {},
   "outputs": [],
   "source": [
    "from statsmodels.tsa.holtwinters import ExponentialSmoothing"
   ]
  },
  {
   "cell_type": "code",
   "execution_count": 30,
   "metadata": {},
   "outputs": [],
   "source": [
    "X = mlr_global_df_use[lag_cols_only]\n",
    "y = mlr_global_df_use['Confirmed']"
   ]
  },
  {
   "cell_type": "code",
   "execution_count": 31,
   "metadata": {},
   "outputs": [],
   "source": [
    "num_in_test = 7\n",
    "test_size = float(num_in_test) / len(X)\n",
    "n_splits = int((1//test_size)-1)\n",
    "tscv = TimeSeriesSplit(n_splits=n_splits)"
   ]
  },
  {
   "cell_type": "code",
   "execution_count": 32,
   "metadata": {},
   "outputs": [
    {
     "name": "stdout",
     "output_type": "stream",
     "text": [
      "TRAIN: [ 0  1  2  3  4  5  6  7  8  9 10 11 12] TEST: [13 14 15 16 17 18 19]\n",
      "TRAIN: [ 0  1  2  3  4  5  6  7  8  9 10 11 12 13 14 15 16 17 18 19] TEST: [20 21 22 23 24 25 26]\n",
      "TRAIN: [ 0  1  2  3  4  5  6  7  8  9 10 11 12 13 14 15 16 17 18 19 20 21 22 23\n",
      " 24 25 26] TEST: [27 28 29 30 31 32 33]\n"
     ]
    },
    {
     "name": "stderr",
     "output_type": "stream",
     "text": [
      "C:\\Users\\pspat\\Anaconda3\\lib\\site-packages\\statsmodels\\tsa\\holtwinters.py:731: RuntimeWarning:\n",
      "\n",
      "invalid value encountered in greater_equal\n",
      "\n"
     ]
    },
    {
     "name": "stdout",
     "output_type": "stream",
     "text": [
      "TRAIN: [ 0  1  2  3  4  5  6  7  8  9 10 11 12 13 14 15 16 17 18 19 20 21 22 23\n",
      " 24 25 26 27 28 29 30 31 32 33] TEST: [34 35 36 37 38 39 40]\n",
      "TRAIN: [ 0  1  2  3  4  5  6  7  8  9 10 11 12 13 14 15 16 17 18 19 20 21 22 23\n",
      " 24 25 26 27 28 29 30 31 32 33 34 35 36 37 38 39 40] TEST: [41 42 43 44 45 46 47]\n",
      "TRAIN: [ 0  1  2  3  4  5  6  7  8  9 10 11 12 13 14 15 16 17 18 19 20 21 22 23\n",
      " 24 25 26 27 28 29 30 31 32 33 34 35 36 37 38 39 40 41 42 43 44 45 46 47] TEST: [48 49 50 51 52 53 54]\n",
      "TRAIN: [ 0  1  2  3  4  5  6  7  8  9 10 11 12 13 14 15 16 17 18 19 20 21 22 23\n",
      " 24 25 26 27 28 29 30 31 32 33 34 35 36 37 38 39 40 41 42 43 44 45 46 47\n",
      " 48 49 50 51 52 53 54] TEST: [55 56 57 58 59 60 61]\n",
      "TRAIN: [ 0  1  2  3  4  5  6  7  8  9 10 11 12 13 14 15 16 17 18 19 20 21 22 23\n",
      " 24 25 26 27 28 29 30 31 32 33 34 35 36 37 38 39 40 41 42 43 44 45 46 47\n",
      " 48 49 50 51 52 53 54 55 56 57 58 59 60 61] TEST: [62 63 64 65 66 67 68]\n"
     ]
    }
   ],
   "source": [
    "y_preds_holt = []\n",
    "mapes_holt =  []\n",
    "first_test_ind_holt=500000\n",
    "for train_index, test_index in tscv.split(X):\n",
    "    print(\"TRAIN:\", train_index, \"TEST:\", test_index)\n",
    "    if test_index[0] < first_test_ind_holt:\n",
    "        first_test_ind_holt=test_index[0]\n",
    "    y_train = y.iloc[train_index]\n",
    "    y_test = y.iloc[test_index]\n",
    "    holtfit = ExponentialSmoothing(y_train, trend='mul',seasonal=None,damped=True).fit()\n",
    "    y_pred = holtfit.forecast(7)\n",
    "    y_preds_holt.append(np.round(y_pred.values))\n",
    "    mapes_holt.append(round((abs((y_pred.values -y_test) / y_test) * 100).mean()))\n",
    "    "
   ]
  },
  {
   "cell_type": "code",
   "execution_count": 33,
   "metadata": {},
   "outputs": [
    {
     "data": {
      "text/plain": [
       "8.25"
      ]
     },
     "execution_count": 33,
     "metadata": {},
     "output_type": "execute_result"
    }
   ],
   "source": [
    "np.mean(mapes_holt)"
   ]
  },
  {
   "cell_type": "code",
   "execution_count": 34,
   "metadata": {},
   "outputs": [
    {
     "name": "stderr",
     "output_type": "stream",
     "text": [
      "No handles with labels found to put in legend.\n"
     ]
    },
    {
     "data": {
      "image/png": "[encoded data removed]",
      "text/plain": [
       "<Figure size 1008x360 with 1 Axes>"
      ]
     },
     "metadata": {
      "needs_background": "light"
     },
     "output_type": "display_data"
    }
   ],
   "source": [
    "fig, ax = plt.subplots(figsize=(14, 5))\n",
    "y_preds_holt_plot = [y for x in y_preds_holt for y in x]\n",
    "yplot = y[first_test_ind_holt:]\n",
    "ax.plot(yplot, 'go--')\n",
    "ax.plot(pd.Series(y_preds_holt_plot, index = yplot.index), 'ro--')\n",
    "\n",
    "plt.title('Actual vs Pred')\n",
    "plt.legend()\n",
    "plt.show()"
   ]
  },
  {
   "cell_type": "markdown",
   "metadata": {},
   "source": [
    "### holt 2 week"
   ]
  },
  {
   "cell_type": "code",
   "execution_count": 35,
   "metadata": {},
   "outputs": [
    {
     "name": "stdout",
     "output_type": "stream",
     "text": [
      "TRAIN: [ 0  1  2  3  4  5  6  7  8  9 10 11 12 13 14 15 16 17] TEST: [18 19 20 21 22 23 24 25 26 27 28 29 30 31 32 33 34]\n",
      "TRAIN: [ 0  1  2  3  4  5  6  7  8  9 10 11 12 13 14 15 16 17 18 19 20 21 22 23\n",
      " 24 25 26 27 28 29 30 31 32 33 34] TEST: [35 36 37 38 39 40 41 42 43 44 45 46 47 48 49 50 51]\n",
      "TRAIN: [ 0  1  2  3  4  5  6  7  8  9 10 11 12 13 14 15 16 17 18 19 20 21 22 23\n",
      " 24 25 26 27 28 29 30 31 32 33 34 35 36 37 38 39 40 41 42 43 44 45 46 47\n",
      " 48 49 50 51] TEST: [52 53 54 55 56 57 58 59 60 61 62 63 64 65 66 67 68]\n"
     ]
    },
    {
     "name": "stderr",
     "output_type": "stream",
     "text": [
      "C:\\Users\\pspat\\Anaconda3\\lib\\site-packages\\statsmodels\\tsa\\holtwinters.py:731: RuntimeWarning:\n",
      "\n",
      "invalid value encountered in greater_equal\n",
      "\n"
     ]
    }
   ],
   "source": [
    "num_in_test = 14\n",
    "test_size = float(num_in_test) / len(X)\n",
    "n_splits = int((1//test_size)-1)\n",
    "tscv = TimeSeriesSplit(n_splits=n_splits)\n",
    "\n",
    "y_preds_holt_2wk = []\n",
    "mapes_holt_2wk =  []\n",
    "first_test_ind_holt_2wk=500000\n",
    "for train_index, test_index in tscv.split(X):\n",
    "    print(\"TRAIN:\", train_index, \"TEST:\", test_index)\n",
    "    if test_index[0] < first_test_ind_holt_2wk:\n",
    "        first_test_ind_holt_2wk=test_index[0]\n",
    "    y_train = y.iloc[train_index]\n",
    "    y_test = y.iloc[test_index]\n",
    "    holtfit_2wk = ExponentialSmoothing(y_train, trend='mul',seasonal=None,damped=True).fit()\n",
    "    y_pred = holtfit_2wk.forecast(len(y_test))\n",
    "    y_preds_holt_2wk.append(np.round(y_pred.values))\n",
    "    mapes_holt_2wk.append(round((abs((y_pred.values -y_test) / y_test) * 100).mean()))\n",
    "    "
   ]
  },
  {
   "cell_type": "code",
   "execution_count": 36,
   "metadata": {},
   "outputs": [
    {
     "data": {
      "text/plain": [
       "30.666666666666668"
      ]
     },
     "execution_count": 36,
     "metadata": {},
     "output_type": "execute_result"
    }
   ],
   "source": [
    "np.mean(mapes_holt_2wk)"
   ]
  },
  {
   "cell_type": "code",
   "execution_count": 37,
   "metadata": {},
   "outputs": [
    {
     "name": "stderr",
     "output_type": "stream",
     "text": [
      "No handles with labels found to put in legend.\n"
     ]
    },
    {
     "data": {
      "image/png": "[encoded data removed]",
      "text/plain": [
       "<Figure size 1008x360 with 1 Axes>"
      ]
     },
     "metadata": {
      "needs_background": "light"
     },
     "output_type": "display_data"
    }
   ],
   "source": [
    "fig, ax = plt.subplots(figsize=(14, 5))\n",
    "y_preds_holt_2wk_plot = [y for x in y_preds_holt_2wk for y in x]\n",
    "yplot = y[first_test_ind_holt_2wk:]\n",
    "ax.plot(yplot, 'go--')\n",
    "ax.plot(pd.Series(y_preds_holt_2wk_plot, index = yplot.index), 'ro--')\n",
    "\n",
    "plt.title('Actual vs Pred')\n",
    "plt.legend()\n",
    "plt.show()"
   ]
  },
  {
   "cell_type": "markdown",
   "metadata": {},
   "source": [
    "### ARIMA Model"
   ]
  },
  {
   "cell_type": "code",
   "execution_count": 38,
   "metadata": {},
   "outputs": [],
   "source": [
    "from statsmodels.tsa.arima_model import ARIMA"
   ]
  },
  {
   "cell_type": "code",
   "execution_count": 39,
   "metadata": {},
   "outputs": [
    {
     "name": "stdout",
     "output_type": "stream",
     "text": [
      "TRAIN: [ 0  1  2  3  4  5  6  7  8  9 10 11 12] TEST: [13 14 15 16 17 18 19]\n",
      "TRAIN: [ 0  1  2  3  4  5  6  7  8  9 10 11 12 13 14 15 16 17 18 19] TEST: [20 21 22 23 24 25 26]\n",
      "TRAIN: [ 0  1  2  3  4  5  6  7  8  9 10 11 12 13 14 15 16 17 18 19 20 21 22 23\n",
      " 24 25 26] TEST: [27 28 29 30 31 32 33]\n",
      "TRAIN: [ 0  1  2  3  4  5  6  7  8  9 10 11 12 13 14 15 16 17 18 19 20 21 22 23\n",
      " 24 25 26 27 28 29 30 31 32 33] TEST: [34 35 36 37 38 39 40]\n",
      "TRAIN: [ 0  1  2  3  4  5  6  7  8  9 10 11 12 13 14 15 16 17 18 19 20 21 22 23\n",
      " 24 25 26 27 28 29 30 31 32 33 34 35 36 37 38 39 40] TEST: [41 42 43 44 45 46 47]\n",
      "TRAIN: [ 0  1  2  3  4  5  6  7  8  9 10 11 12 13 14 15 16 17 18 19 20 21 22 23\n",
      " 24 25 26 27 28 29 30 31 32 33 34 35 36 37 38 39 40 41 42 43 44 45 46 47] TEST: [48 49 50 51 52 53 54]\n",
      "TRAIN: [ 0  1  2  3  4  5  6  7  8  9 10 11 12 13 14 15 16 17 18 19 20 21 22 23\n",
      " 24 25 26 27 28 29 30 31 32 33 34 35 36 37 38 39 40 41 42 43 44 45 46 47\n",
      " 48 49 50 51 52 53 54] TEST: [55 56 57 58 59 60 61]\n",
      "TRAIN: [ 0  1  2  3  4  5  6  7  8  9 10 11 12 13 14 15 16 17 18 19 20 21 22 23\n",
      " 24 25 26 27 28 29 30 31 32 33 34 35 36 37 38 39 40 41 42 43 44 45 46 47\n",
      " 48 49 50 51 52 53 54 55 56 57 58 59 60 61] TEST: [62 63 64 65 66 67 68]\n"
     ]
    },
    {
     "name": "stderr",
     "output_type": "stream",
     "text": [
      "C:\\Users\\pspat\\Anaconda3\\lib\\site-packages\\statsmodels\\base\\model.py:548: HessianInversionWarning:\n",
      "\n",
      "Inverting hessian failed, no bse or cov_params available\n",
      "\n"
     ]
    }
   ],
   "source": [
    "y = mlr_global_df_use['Confirmed']\n",
    "num_in_test = 7\n",
    "test_size = float(num_in_test) / len(X)\n",
    "n_splits = int((1//test_size)-1)\n",
    "tscv = TimeSeriesSplit(n_splits=n_splits)\n",
    "y_preds_arima = []\n",
    "mapes_arima =  []\n",
    "first_test_ind=500000\n",
    "for train_index, test_index in tscv.split(X):\n",
    "    print(\"TRAIN:\", train_index, \"TEST:\", test_index)\n",
    "    if test_index[0] < first_test_ind:\n",
    "        first_test_ind=test_index[0]\n",
    "    y_train = y.iloc[train_index]\n",
    "    y_test = y.iloc[test_index]\n",
    "    model_arima=ARIMA(y_train,(1,1,0))\n",
    "    model_arima_fit=model_arima.fit()\n",
    "    y_pred = model_arima_fit.forecast(len(y_test))[0]\n",
    "    y_preds_arima.append(np.round(y_pred))\n",
    "    mapes_arima.append(round((abs((y_pred -y_test) / y_test) * 100).mean()))\n",
    "    "
   ]
  },
  {
   "cell_type": "code",
   "execution_count": 40,
   "metadata": {},
   "outputs": [
    {
     "data": {
      "text/plain": [
       "9.75"
      ]
     },
     "execution_count": 40,
     "metadata": {},
     "output_type": "execute_result"
    }
   ],
   "source": [
    "np.mean(mapes_arima)"
   ]
  },
  {
   "cell_type": "code",
   "execution_count": 41,
   "metadata": {},
   "outputs": [],
   "source": [
    "def evaluate_models(timeseries_data,p_values, d_values, q_values):\n",
    "    best_score, best_cfg = float(\"inf\"), None\n",
    "    for p in p_values:\n",
    "        for d in d_values:\n",
    "            for q in q_values:\n",
    "                order = (p,d,q)\n",
    "                try:\n",
    "                    mape = evaluate_arima_model(timeseries_data,order)\n",
    "                    if mape < best_score:\n",
    "                        best_score, best_cfg = mape, order\n",
    "                    print('ARIMA%s MSE=%.3f' % (order,mape))\n",
    "                except:\n",
    "                    continue\n",
    "    print('Best ARIMA%s MAPE=%.3f' % (best_cfg, best_score))"
   ]
  },
  {
   "cell_type": "code",
   "execution_count": 42,
   "metadata": {},
   "outputs": [],
   "source": [
    "def evaluate_arima_model(timeseries_data,arima_order):\n",
    "    # prepare training dataset\n",
    "    \n",
    "    y = timeseries_data\n",
    "    num_in_test = 7\n",
    "    test_size = float(num_in_test) / len(X)\n",
    "    n_splits = int((1//test_size)-1)\n",
    "    tscv = TimeSeriesSplit(n_splits=n_splits)\n",
    "    y_preds_arima = []\n",
    "    mapes_arima =  []\n",
    "    \n",
    "    for train_index, test_index in tscv.split(X):\n",
    "        print(\"TRAIN:\", train_index, \"TEST:\", test_index)\n",
    "        y_train = y.iloc[train_index]\n",
    "        y_test = y.iloc[test_index]\n",
    "        model_arima=ARIMA(y_train,arima_order)\n",
    "        model_arima_fit=model_arima.fit()\n",
    "        y_pred = model_arima_fit.forecast(len(y_test))[0]\n",
    "        y_preds_arima.append(np.round(y_pred))\n",
    "        mapes_arima.append(round((abs((y_pred -y_test) / y_test) * 100).mean()))\n",
    "    \n",
    "    return np.mean(mapes_arima)"
   ]
  },
  {
   "cell_type": "code",
   "execution_count": 43,
   "metadata": {},
   "outputs": [],
   "source": [
    "p_values = [0, 1, 2, 4, 6, 8, 10]\n",
    "d_values = range(0, 3) #this is the range for the values\n",
    "q_values = range(0, 3) #this is the range for the values"
   ]
  },
  {
   "cell_type": "code",
   "execution_count": 44,
   "metadata": {},
   "outputs": [
    {
     "name": "stdout",
     "output_type": "stream",
     "text": [
      "TRAIN: [ 0  1  2  3  4  5  6  7  8  9 10 11 12] TEST: [13 14 15 16 17 18 19]\n",
      "TRAIN: [ 0  1  2  3  4  5  6  7  8  9 10 11 12] TEST: [13 14 15 16 17 18 19]\n",
      "TRAIN: [ 0  1  2  3  4  5  6  7  8  9 10 11 12 13 14 15 16 17 18 19] TEST: [20 21 22 23 24 25 26]\n",
      "TRAIN: [ 0  1  2  3  4  5  6  7  8  9 10 11 12 13 14 15 16 17 18 19 20 21 22 23\n",
      " 24 25 26] TEST: [27 28 29 30 31 32 33]\n",
      "TRAIN: [ 0  1  2  3  4  5  6  7  8  9 10 11 12 13 14 15 16 17 18 19 20 21 22 23\n",
      " 24 25 26 27 28 29 30 31 32 33] TEST: [34 35 36 37 38 39 40]\n",
      "TRAIN: [ 0  1  2  3  4  5  6  7  8  9 10 11 12 13 14 15 16 17 18 19 20 21 22 23\n",
      " 24 25 26 27 28 29 30 31 32 33 34 35 36 37 38 39 40] TEST: [41 42 43 44 45 46 47]\n"
     ]
    },
    {
     "name": "stderr",
     "output_type": "stream",
     "text": [
      "C:\\Users\\pspat\\Anaconda3\\lib\\site-packages\\statsmodels\\base\\model.py:548: HessianInversionWarning:\n",
      "\n",
      "Inverting hessian failed, no bse or cov_params available\n",
      "\n",
      "C:\\Users\\pspat\\Anaconda3\\lib\\site-packages\\statsmodels\\base\\model.py:548: HessianInversionWarning:\n",
      "\n",
      "Inverting hessian failed, no bse or cov_params available\n",
      "\n",
      "C:\\Users\\pspat\\Anaconda3\\lib\\site-packages\\statsmodels\\base\\model.py:548: HessianInversionWarning:\n",
      "\n",
      "Inverting hessian failed, no bse or cov_params available\n",
      "\n",
      "C:\\Users\\pspat\\Anaconda3\\lib\\site-packages\\statsmodels\\base\\model.py:548: HessianInversionWarning:\n",
      "\n",
      "Inverting hessian failed, no bse or cov_params available\n",
      "\n",
      "C:\\Users\\pspat\\Anaconda3\\lib\\site-packages\\statsmodels\\base\\model.py:548: HessianInversionWarning:\n",
      "\n",
      "Inverting hessian failed, no bse or cov_params available\n",
      "\n"
     ]
    },
    {
     "name": "stdout",
     "output_type": "stream",
     "text": [
      "TRAIN: [ 0  1  2  3  4  5  6  7  8  9 10 11 12 13 14 15 16 17 18 19 20 21 22 23\n",
      " 24 25 26 27 28 29 30 31 32 33 34 35 36 37 38 39 40 41 42 43 44 45 46 47] TEST: [48 49 50 51 52 53 54]\n",
      "TRAIN: [ 0  1  2  3  4  5  6  7  8  9 10 11 12 13 14 15 16 17 18 19 20 21 22 23\n",
      " 24 25 26 27 28 29 30 31 32 33 34 35 36 37 38 39 40 41 42 43 44 45 46 47\n",
      " 48 49 50 51 52 53 54] TEST: [55 56 57 58 59 60 61]\n",
      "TRAIN: [ 0  1  2  3  4  5  6  7  8  9 10 11 12 13 14 15 16 17 18 19 20 21 22 23\n",
      " 24 25 26 27 28 29 30 31 32 33 34 35 36 37 38 39 40 41 42 43 44 45 46 47\n",
      " 48 49 50 51 52 53 54 55 56 57 58 59 60 61] TEST: [62 63 64 65 66 67 68]\n",
      "ARIMA(0, 0, 1) MSE=54.125\n",
      "TRAIN: [ 0  1  2  3  4  5  6  7  8  9 10 11 12] TEST: [13 14 15 16 17 18 19]\n"
     ]
    },
    {
     "name": "stderr",
     "output_type": "stream",
     "text": [
      "C:\\Users\\pspat\\Anaconda3\\lib\\site-packages\\statsmodels\\base\\model.py:548: HessianInversionWarning:\n",
      "\n",
      "Inverting hessian failed, no bse or cov_params available\n",
      "\n",
      "C:\\Users\\pspat\\Anaconda3\\lib\\site-packages\\statsmodels\\base\\model.py:548: HessianInversionWarning:\n",
      "\n",
      "Inverting hessian failed, no bse or cov_params available\n",
      "\n",
      "C:\\Users\\pspat\\Anaconda3\\lib\\site-packages\\statsmodels\\base\\model.py:568: ConvergenceWarning:\n",
      "\n",
      "Maximum Likelihood optimization failed to converge. Check mle_retvals\n",
      "\n"
     ]
    },
    {
     "name": "stdout",
     "output_type": "stream",
     "text": [
      "TRAIN: [ 0  1  2  3  4  5  6  7  8  9 10 11 12 13 14 15 16 17 18 19] TEST: [20 21 22 23 24 25 26]\n",
      "TRAIN: [ 0  1  2  3  4  5  6  7  8  9 10 11 12 13 14 15 16 17 18 19 20 21 22 23\n",
      " 24 25 26] TEST: [27 28 29 30 31 32 33]\n",
      "TRAIN: [ 0  1  2  3  4  5  6  7  8  9 10 11 12 13 14 15 16 17 18 19 20 21 22 23\n",
      " 24 25 26 27 28 29 30 31 32 33] TEST: [34 35 36 37 38 39 40]\n",
      "TRAIN: [ 0  1  2  3  4  5  6  7  8  9 10 11 12 13 14 15 16 17 18 19 20 21 22 23\n",
      " 24 25 26 27 28 29 30 31 32 33 34 35 36 37 38 39 40] TEST: [41 42 43 44 45 46 47]\n"
     ]
    },
    {
     "name": "stderr",
     "output_type": "stream",
     "text": [
      "C:\\Users\\pspat\\Anaconda3\\lib\\site-packages\\statsmodels\\base\\model.py:548: HessianInversionWarning:\n",
      "\n",
      "Inverting hessian failed, no bse or cov_params available\n",
      "\n",
      "C:\\Users\\pspat\\Anaconda3\\lib\\site-packages\\statsmodels\\base\\model.py:548: HessianInversionWarning:\n",
      "\n",
      "Inverting hessian failed, no bse or cov_params available\n",
      "\n"
     ]
    },
    {
     "name": "stdout",
     "output_type": "stream",
     "text": [
      "TRAIN: [ 0  1  2  3  4  5  6  7  8  9 10 11 12 13 14 15 16 17 18 19 20 21 22 23\n",
      " 24 25 26 27 28 29 30 31 32 33 34 35 36 37 38 39 40 41 42 43 44 45 46 47] TEST: [48 49 50 51 52 53 54]\n",
      "TRAIN: [ 0  1  2  3  4  5  6  7  8  9 10 11 12 13 14 15 16 17 18 19 20 21 22 23\n",
      " 24 25 26 27 28 29 30 31 32 33 34 35 36 37 38 39 40 41 42 43 44 45 46 47\n",
      " 48 49 50 51 52 53 54] TEST: [55 56 57 58 59 60 61]\n"
     ]
    },
    {
     "name": "stderr",
     "output_type": "stream",
     "text": [
      "C:\\Users\\pspat\\Anaconda3\\lib\\site-packages\\statsmodels\\base\\model.py:548: HessianInversionWarning:\n",
      "\n",
      "Inverting hessian failed, no bse or cov_params available\n",
      "\n"
     ]
    },
    {
     "name": "stdout",
     "output_type": "stream",
     "text": [
      "TRAIN: [ 0  1  2  3  4  5  6  7  8  9 10 11 12 13 14 15 16 17 18 19 20 21 22 23\n",
      " 24 25 26 27 28 29 30 31 32 33 34 35 36 37 38 39 40 41 42 43 44 45 46 47\n",
      " 48 49 50 51 52 53 54 55 56 57 58 59 60 61] TEST: [62 63 64 65 66 67 68]\n",
      "ARIMA(0, 0, 2) MSE=51.000\n",
      "TRAIN: [ 0  1  2  3  4  5  6  7  8  9 10 11 12] TEST: [13 14 15 16 17 18 19]\n",
      "TRAIN: [ 0  1  2  3  4  5  6  7  8  9 10 11 12] TEST: [13 14 15 16 17 18 19]\n",
      "TRAIN: [ 0  1  2  3  4  5  6  7  8  9 10 11 12 13 14 15 16 17 18 19] TEST: [20 21 22 23 24 25 26]\n",
      "TRAIN: [ 0  1  2  3  4  5  6  7  8  9 10 11 12 13 14 15 16 17 18 19 20 21 22 23\n",
      " 24 25 26] TEST: [27 28 29 30 31 32 33]\n",
      "TRAIN: [ 0  1  2  3  4  5  6  7  8  9 10 11 12 13 14 15 16 17 18 19 20 21 22 23\n",
      " 24 25 26 27 28 29 30 31 32 33] TEST: [34 35 36 37 38 39 40]\n",
      "TRAIN: [ 0  1  2  3  4  5  6  7  8  9 10 11 12 13 14 15 16 17 18 19 20 21 22 23\n",
      " 24 25 26 27 28 29 30 31 32 33 34 35 36 37 38 39 40] TEST: [41 42 43 44 45 46 47]\n",
      "TRAIN: [ 0  1  2  3  4  5  6  7  8  9 10 11 12 13 14 15 16 17 18 19 20 21 22 23\n",
      " 24 25 26 27 28 29 30 31 32 33 34 35 36 37 38 39 40 41 42 43 44 45 46 47] TEST: [48 49 50 51 52 53 54]\n",
      "TRAIN: [ 0  1  2  3  4  5  6  7  8  9 10 11 12 13 14 15 16 17 18 19 20 21 22 23\n",
      " 24 25 26 27 28 29 30 31 32 33 34 35 36 37 38 39 40 41 42 43 44 45 46 47\n",
      " 48 49 50 51 52 53 54] TEST: [55 56 57 58 59 60 61]\n",
      "TRAIN: [ 0  1  2  3  4  5  6  7  8  9 10 11 12 13 14 15 16 17 18 19 20 21 22 23\n",
      " 24 25 26 27 28 29 30 31 32 33 34 35 36 37 38 39 40 41 42 43 44 45 46 47\n",
      " 48 49 50 51 52 53 54 55 56 57 58 59 60 61] TEST: [62 63 64 65 66 67 68]\n",
      "ARIMA(0, 1, 1) MSE=14.875\n",
      "TRAIN: [ 0  1  2  3  4  5  6  7  8  9 10 11 12] TEST: [13 14 15 16 17 18 19]\n",
      "TRAIN: [ 0  1  2  3  4  5  6  7  8  9 10 11 12 13 14 15 16 17 18 19] TEST: [20 21 22 23 24 25 26]\n",
      "TRAIN: [ 0  1  2  3  4  5  6  7  8  9 10 11 12 13 14 15 16 17 18 19 20 21 22 23\n",
      " 24 25 26] TEST: [27 28 29 30 31 32 33]\n",
      "TRAIN: [ 0  1  2  3  4  5  6  7  8  9 10 11 12 13 14 15 16 17 18 19 20 21 22 23\n",
      " 24 25 26 27 28 29 30 31 32 33] TEST: [34 35 36 37 38 39 40]\n",
      "TRAIN: [ 0  1  2  3  4  5  6  7  8  9 10 11 12 13 14 15 16 17 18 19 20 21 22 23\n",
      " 24 25 26 27 28 29 30 31 32 33 34 35 36 37 38 39 40] TEST: [41 42 43 44 45 46 47]\n",
      "TRAIN: [ 0  1  2  3  4  5  6  7  8  9 10 11 12 13 14 15 16 17 18 19 20 21 22 23\n",
      " 24 25 26 27 28 29 30 31 32 33 34 35 36 37 38 39 40 41 42 43 44 45 46 47] TEST: [48 49 50 51 52 53 54]\n",
      "TRAIN: [ 0  1  2  3  4  5  6  7  8  9 10 11 12 13 14 15 16 17 18 19 20 21 22 23\n",
      " 24 25 26 27 28 29 30 31 32 33 34 35 36 37 38 39 40 41 42 43 44 45 46 47\n",
      " 48 49 50 51 52 53 54] TEST: [55 56 57 58 59 60 61]\n",
      "TRAIN: [ 0  1  2  3  4  5  6  7  8  9 10 11 12 13 14 15 16 17 18 19 20 21 22 23\n",
      " 24 25 26 27 28 29 30 31 32 33 34 35 36 37 38 39 40 41 42 43 44 45 46 47\n",
      " 48 49 50 51 52 53 54 55 56 57 58 59 60 61] TEST: [62 63 64 65 66 67 68]\n",
      "ARIMA(0, 1, 2) MSE=14.625\n",
      "TRAIN: [ 0  1  2  3  4  5  6  7  8  9 10 11 12] TEST: [13 14 15 16 17 18 19]\n"
     ]
    },
    {
     "name": "stderr",
     "output_type": "stream",
     "text": [
      "C:\\Users\\pspat\\Anaconda3\\lib\\site-packages\\statsmodels\\base\\model.py:548: HessianInversionWarning:\n",
      "\n",
      "Inverting hessian failed, no bse or cov_params available\n",
      "\n",
      "C:\\Users\\pspat\\Anaconda3\\lib\\site-packages\\statsmodels\\tsa\\tsatools.py:716: RuntimeWarning:\n",
      "\n",
      "divide by zero encountered in true_divide\n",
      "\n",
      "C:\\Users\\pspat\\Anaconda3\\lib\\site-packages\\statsmodels\\tsa\\tsatools.py:689: RuntimeWarning:\n",
      "\n",
      "invalid value encountered in true_divide\n",
      "\n",
      "C:\\Users\\pspat\\Anaconda3\\lib\\site-packages\\statsmodels\\tsa\\tsatools.py:690: RuntimeWarning:\n",
      "\n",
      "invalid value encountered in true_divide\n",
      "\n",
      "C:\\Users\\pspat\\Anaconda3\\lib\\site-packages\\statsmodels\\tsa\\kalmanf\\kalmanfilter.py:224: RuntimeWarning:\n",
      "\n",
      "invalid value encountered in log\n",
      "\n",
      "C:\\Users\\pspat\\Anaconda3\\lib\\site-packages\\statsmodels\\tsa\\kalmanf\\kalmanfilter.py:224: RuntimeWarning:\n",
      "\n",
      "invalid value encountered in true_divide\n",
      "\n",
      "C:\\Users\\pspat\\Anaconda3\\lib\\site-packages\\statsmodels\\tools\\numdiff.py:243: RuntimeWarning:\n",
      "\n",
      "invalid value encountered in add\n",
      "\n",
      "C:\\Users\\pspat\\Anaconda3\\lib\\site-packages\\statsmodels\\tools\\numdiff.py:243: RuntimeWarning:\n",
      "\n",
      "invalid value encountered in multiply\n",
      "\n",
      "C:\\Users\\pspat\\Anaconda3\\lib\\site-packages\\statsmodels\\base\\model.py:548: HessianInversionWarning:\n",
      "\n",
      "Inverting hessian failed, no bse or cov_params available\n",
      "\n",
      "C:\\Users\\pspat\\Anaconda3\\lib\\site-packages\\statsmodels\\base\\model.py:568: ConvergenceWarning:\n",
      "\n",
      "Maximum Likelihood optimization failed to converge. Check mle_retvals\n",
      "\n",
      "C:\\Users\\pspat\\Anaconda3\\lib\\site-packages\\statsmodels\\base\\model.py:548: HessianInversionWarning:\n",
      "\n",
      "Inverting hessian failed, no bse or cov_params available\n",
      "\n",
      "C:\\Users\\pspat\\Anaconda3\\lib\\site-packages\\statsmodels\\base\\model.py:568: ConvergenceWarning:\n",
      "\n",
      "Maximum Likelihood optimization failed to converge. Check mle_retvals\n",
      "\n"
     ]
    },
    {
     "name": "stdout",
     "output_type": "stream",
     "text": [
      "TRAIN: [ 0  1  2  3  4  5  6  7  8  9 10 11 12] TEST: [13 14 15 16 17 18 19]\n",
      "TRAIN: [ 0  1  2  3  4  5  6  7  8  9 10 11 12] TEST: [13 14 15 16 17 18 19]\n",
      "TRAIN: [ 0  1  2  3  4  5  6  7  8  9 10 11 12] TEST: [13 14 15 16 17 18 19]\n",
      "TRAIN: [ 0  1  2  3  4  5  6  7  8  9 10 11 12 13 14 15 16 17 18 19] TEST: [20 21 22 23 24 25 26]\n",
      "TRAIN: [ 0  1  2  3  4  5  6  7  8  9 10 11 12 13 14 15 16 17 18 19 20 21 22 23\n",
      " 24 25 26] TEST: [27 28 29 30 31 32 33]\n",
      "TRAIN: [ 0  1  2  3  4  5  6  7  8  9 10 11 12 13 14 15 16 17 18 19 20 21 22 23\n",
      " 24 25 26 27 28 29 30 31 32 33] TEST: [34 35 36 37 38 39 40]\n",
      "TRAIN: [ 0  1  2  3  4  5  6  7  8  9 10 11 12 13 14 15 16 17 18 19 20 21 22 23\n",
      " 24 25 26 27 28 29 30 31 32 33 34 35 36 37 38 39 40] TEST: [41 42 43 44 45 46 47]\n"
     ]
    },
    {
     "name": "stderr",
     "output_type": "stream",
     "text": [
      "C:\\Users\\pspat\\Anaconda3\\lib\\site-packages\\statsmodels\\tsa\\kalmanf\\kalmanfilter.py:220: RuntimeWarning:\n",
      "\n",
      "divide by zero encountered in true_divide\n",
      "\n",
      "C:\\Users\\pspat\\Anaconda3\\lib\\site-packages\\statsmodels\\base\\model.py:568: ConvergenceWarning:\n",
      "\n",
      "Maximum Likelihood optimization failed to converge. Check mle_retvals\n",
      "\n"
     ]
    },
    {
     "name": "stdout",
     "output_type": "stream",
     "text": [
      "TRAIN: [ 0  1  2  3  4  5  6  7  8  9 10 11 12 13 14 15 16 17 18 19 20 21 22 23\n",
      " 24 25 26 27 28 29 30 31 32 33 34 35 36 37 38 39 40 41 42 43 44 45 46 47] TEST: [48 49 50 51 52 53 54]\n",
      "TRAIN: [ 0  1  2  3  4  5  6  7  8  9 10 11 12 13 14 15 16 17 18 19 20 21 22 23\n",
      " 24 25 26 27 28 29 30 31 32 33 34 35 36 37 38 39 40 41 42 43 44 45 46 47\n",
      " 48 49 50 51 52 53 54] TEST: [55 56 57 58 59 60 61]\n",
      "TRAIN: [ 0  1  2  3  4  5  6  7  8  9 10 11 12 13 14 15 16 17 18 19 20 21 22 23\n",
      " 24 25 26 27 28 29 30 31 32 33 34 35 36 37 38 39 40 41 42 43 44 45 46 47\n",
      " 48 49 50 51 52 53 54 55 56 57 58 59 60 61] TEST: [62 63 64 65 66 67 68]\n",
      "ARIMA(1, 0, 0) MSE=20.375\n",
      "TRAIN: [ 0  1  2  3  4  5  6  7  8  9 10 11 12] TEST: [13 14 15 16 17 18 19]\n",
      "TRAIN: [ 0  1  2  3  4  5  6  7  8  9 10 11 12] TEST: [13 14 15 16 17 18 19]\n",
      "TRAIN: [ 0  1  2  3  4  5  6  7  8  9 10 11 12] TEST: [13 14 15 16 17 18 19]\n",
      "TRAIN: [ 0  1  2  3  4  5  6  7  8  9 10 11 12 13 14 15 16 17 18 19] TEST: [20 21 22 23 24 25 26]\n",
      "TRAIN: [ 0  1  2  3  4  5  6  7  8  9 10 11 12 13 14 15 16 17 18 19 20 21 22 23\n",
      " 24 25 26] TEST: [27 28 29 30 31 32 33]\n",
      "TRAIN: [ 0  1  2  3  4  5  6  7  8  9 10 11 12 13 14 15 16 17 18 19 20 21 22 23\n",
      " 24 25 26 27 28 29 30 31 32 33] TEST: [34 35 36 37 38 39 40]\n",
      "TRAIN: [ 0  1  2  3  4  5  6  7  8  9 10 11 12 13 14 15 16 17 18 19 20 21 22 23\n",
      " 24 25 26 27 28 29 30 31 32 33 34 35 36 37 38 39 40] TEST: [41 42 43 44 45 46 47]\n",
      "TRAIN: [ 0  1  2  3  4  5  6  7  8  9 10 11 12 13 14 15 16 17 18 19 20 21 22 23\n",
      " 24 25 26 27 28 29 30 31 32 33 34 35 36 37 38 39 40 41 42 43 44 45 46 47] TEST: [48 49 50 51 52 53 54]\n",
      "TRAIN: [ 0  1  2  3  4  5  6  7  8  9 10 11 12 13 14 15 16 17 18 19 20 21 22 23\n",
      " 24 25 26 27 28 29 30 31 32 33 34 35 36 37 38 39 40 41 42 43 44 45 46 47\n",
      " 48 49 50 51 52 53 54] TEST: [55 56 57 58 59 60 61]\n",
      "TRAIN: [ 0  1  2  3  4  5  6  7  8  9 10 11 12 13 14 15 16 17 18 19 20 21 22 23\n",
      " 24 25 26 27 28 29 30 31 32 33 34 35 36 37 38 39 40 41 42 43 44 45 46 47\n",
      " 48 49 50 51 52 53 54 55 56 57 58 59 60 61] TEST: [62 63 64 65 66 67 68]\n",
      "ARIMA(1, 1, 0) MSE=9.750\n",
      "TRAIN: [ 0  1  2  3  4  5  6  7  8  9 10 11 12] TEST: [13 14 15 16 17 18 19]\n",
      "TRAIN: [ 0  1  2  3  4  5  6  7  8  9 10 11 12] TEST: [13 14 15 16 17 18 19]\n",
      "TRAIN: [ 0  1  2  3  4  5  6  7  8  9 10 11 12] TEST: [13 14 15 16 17 18 19]\n",
      "TRAIN: [ 0  1  2  3  4  5  6  7  8  9 10 11 12 13 14 15 16 17 18 19] TEST: [20 21 22 23 24 25 26]\n",
      "TRAIN:"
     ]
    },
    {
     "name": "stderr",
     "output_type": "stream",
     "text": [
      "C:\\Users\\pspat\\Anaconda3\\lib\\site-packages\\statsmodels\\base\\model.py:548: HessianInversionWarning:\n",
      "\n",
      "Inverting hessian failed, no bse or cov_params available\n",
      "\n"
     ]
    },
    {
     "name": "stdout",
     "output_type": "stream",
     "text": [
      " [ 0  1  2  3  4  5  6  7  8  9 10 11 12 13 14 15 16 17 18 19 20 21 22 23\n",
      " 24 25 26] TEST: [27 28 29 30 31 32 33]\n",
      "TRAIN: [ 0  1  2  3  4  5  6  7  8  9 10 11 12 13 14 15 16 17 18 19 20 21 22 23\n",
      " 24 25 26 27 28 29 30 31 32 33] TEST: [34 35 36 37 38 39 40]\n",
      "TRAIN: [ 0  1  2  3  4  5  6  7  8  9 10 11 12 13 14 15 16 17 18 19 20 21 22 23\n",
      " 24 25 26 27 28 29 30 31 32 33 34 35 36 37 38 39 40] TEST: [41 42 43 44 45 46 47]\n",
      "TRAIN: [ 0  1  2  3  4  5  6  7  8  9 10 11 12 13 14 15 16 17 18 19 20 21 22 23\n",
      " 24 25 26 27 28 29 30 31 32 33 34 35 36 37 38 39 40 41 42 43 44 45 46 47] TEST: [48 49 50 51 52 53 54]\n",
      "TRAIN: [ 0  1  2  3  4  5  6  7  8  9 10 11 12 13 14 15 16 17 18 19 20 21 22 23\n",
      " 24 25 26 27 28 29 30 31 32 33 34 35 36 37 38 39 40 41 42 43 44 45 46 47\n",
      " 48 49 50 51 52 53 54] TEST: [55 56 57 58 59 60 61]\n",
      "TRAIN: [ 0  1  2  3  4  5  6  7  8  9 10 11 12 13 14 15 16 17 18 19 20 21 22 23\n",
      " 24 25 26 27 28 29 30 31 32 33 34 35 36 37 38 39 40 41 42 43 44 45 46 47\n",
      " 48 49 50 51 52 53 54 55 56 57 58 59 60 61] TEST: [62 63 64 65 66 67 68]\n",
      "ARIMA(1, 2, 0) MSE=6.375\n",
      "TRAIN: [ 0  1  2  3  4  5  6  7  8  9 10 11 12] TEST: [13 14 15 16 17 18 19]\n",
      "TRAIN: [ 0  1  2  3  4  5  6  7  8  9 10 11 12] TEST: [13 14 15 16 17 18 19]\n",
      "TRAIN: [ 0  1  2  3  4  5  6  7  8  9 10 11 12] TEST: [13 14 15 16 17 18 19]\n",
      "TRAIN: [ 0  1  2  3  4  5  6  7  8  9 10 11 12 13 14 15 16 17 18 19] TEST: [20 21 22 23 24 25 26]\n",
      "TRAIN: [ 0  1  2  3  4  5  6  7  8  9 10 11 12 13 14 15 16 17 18 19 20 21 22 23\n",
      " 24 25 26] TEST: [27 28 29 30 31 32 33]\n",
      "TRAIN: [ 0  1  2  3  4  5  6  7  8  9 10 11 12 13 14 15 16 17 18 19 20 21 22 23\n",
      " 24 25 26 27 28 29 30 31 32 33] TEST: [34 35 36 37 38 39 40]\n",
      "TRAIN: [ 0  1  2  3  4  5  6  7  8  9 10 11 12 13 14 15 16 17 18 19 20 21 22 23\n",
      " 24 25 26 27 28 29 30 31 32 33 34 35 36 37 38 39 40] TEST: [41 42 43 44 45 46 47]\n",
      "TRAIN: [ 0  1  2  3  4  5  6  7  8  9 10 11 12 13 14 15 16 17 18 19 20 21 22 23\n",
      " 24 25 26 27 28 29 30 31 32 33 34 35 36 37 38 39 40 41 42 43 44 45 46 47] TEST: [48 49 50 51 52 53 54]\n",
      "TRAIN: [ 0  1  2  3  4  5  6  7  8  9 10 11 12] TEST: [13 14 15 16 17 18 19]\n",
      "TRAIN: [ 0  1  2  3  4  5  6  7  8  9 10 11 12] TEST: [13 14 15 16 17 18 19]\n",
      "TRAIN: [ 0  1  2  3  4  5  6  7  8  9 10 11 12] TEST: [13 14 15 16 17 18 19]\n"
     ]
    },
    {
     "name": "stderr",
     "output_type": "stream",
     "text": [
      "C:\\Users\\pspat\\Anaconda3\\lib\\site-packages\\statsmodels\\base\\model.py:548: HessianInversionWarning:\n",
      "\n",
      "Inverting hessian failed, no bse or cov_params available\n",
      "\n",
      "C:\\Users\\pspat\\Anaconda3\\lib\\site-packages\\statsmodels\\base\\model.py:548: HessianInversionWarning:\n",
      "\n",
      "Inverting hessian failed, no bse or cov_params available\n",
      "\n",
      "C:\\Users\\pspat\\Anaconda3\\lib\\site-packages\\statsmodels\\base\\model.py:568: ConvergenceWarning:\n",
      "\n",
      "Maximum Likelihood optimization failed to converge. Check mle_retvals\n",
      "\n"
     ]
    },
    {
     "name": "stdout",
     "output_type": "stream",
     "text": [
      "TRAIN: [ 0  1  2  3  4  5  6  7  8  9 10 11 12 13 14 15 16 17 18 19] TEST: [20 21 22 23 24 25 26]\n",
      "TRAIN: [ 0  1  2  3  4  5  6  7  8  9 10 11 12 13 14 15 16 17 18 19 20 21 22 23\n",
      " 24 25 26] TEST: [27 28 29 30 31 32 33]\n",
      "TRAIN: [ 0  1  2  3  4  5  6  7  8  9 10 11 12 13 14 15 16 17 18 19 20 21 22 23\n",
      " 24 25 26 27 28 29 30 31 32 33] TEST: [34 35 36 37 38 39 40]\n",
      "TRAIN: [ 0  1  2  3  4  5  6  7  8  9 10 11 12 13 14 15 16 17 18 19 20 21 22 23\n",
      " 24 25 26 27 28 29 30 31 32 33 34 35 36 37 38 39 40] TEST: [41 42 43 44 45 46 47]\n",
      "TRAIN: [ 0  1  2  3  4  5  6  7  8  9 10 11 12 13 14 15 16 17 18 19 20 21 22 23\n",
      " 24 25 26 27 28 29 30 31 32 33 34 35 36 37 38 39 40 41 42 43 44 45 46 47] TEST: [48 49 50 51 52 53 54]\n",
      "TRAIN: [ 0  1  2  3  4  5  6  7  8  9 10 11 12 13 14 15 16 17 18 19 20 21 22 23\n",
      " 24 25 26 27 28 29 30 31 32 33 34 35 36 37 38 39 40 41 42 43 44 45 46 47\n",
      " 48 49 50 51 52 53 54] TEST: [55 56 57 58 59 60 61]\n",
      "TRAIN: [ 0  1  2  3  4  5  6  7  8  9 10 11 12 13 14 15 16 17 18 19 20 21 22 23\n",
      " 24 25 26 27 28 29 30 31 32 33 34 35 36 37 38 39 40 41 42 43 44 45 46 47\n",
      " 48 49 50 51 52 53 54 55 56 57 58 59 60 61] TEST: [62 63 64 65 66 67 68]\n",
      "ARIMA(2, 1, 0) MSE=9.750\n",
      "TRAIN: [ 0  1  2  3  4  5  6  7  8  9 10 11 12] TEST: [13 14 15 16 17 18 19]\n",
      "TRAIN: [ 0  1  2  3  4  5  6  7  8  9 10 11 12] TEST: [13 14 15 16 17 18 19]\n",
      "TRAIN: [ 0  1  2  3  4  5  6  7  8  9 10 11 12] TEST: [13 14 15 16 17 18 19]\n",
      "TRAIN: [ 0  1  2  3  4  5  6  7  8  9 10 11 12 13 14 15 16 17 18 19] TEST: [20 21 22 23 24 25 26]\n",
      "TRAIN: [ 0  1  2  3  4  5  6  7  8  9 10 11 12 13 14 15 16 17 18 19 20 21 22 23\n",
      " 24 25 26] TEST: [27 28 29 30 31 32 33]\n",
      "TRAIN: [ 0  1  2  3  4  5  6  7  8  9 10 11 12 13 14 15 16 17 18 19 20 21 22 23\n",
      " 24 25 26 27 28 29 30 31 32 33] TEST: [34 35 36 37 38 39 40]\n",
      "TRAIN: [ 0  1  2  3  4  5  6  7  8  9 10 11 12 13 14 15 16 17 18 19 20 21 22 23\n",
      " 24 25 26 27 28 29 30 31 32 33 34 35 36 37 38 39 40] TEST: [41 42 43 44 45 46 47]\n",
      "TRAIN: [ 0  1  2  3  4  5  6  7  8  9 10 11 12 13 14 15 16 17 18 19 20 21 22 23\n",
      " 24 25 26 27 28 29 30 31 32 33 34 35 36 37 38 39 40 41 42 43 44 45 46 47] TEST: [48 49 50 51 52 53 54]\n",
      "TRAIN: [ 0  1  2  3  4  5  6  7  8  9 10 11 12 13 14 15 16 17 18 19 20 21 22 23\n",
      " 24 25 26 27 28 29 30 31 32 33 34 35 36 37 38 39 40 41 42 43 44 45 46 47\n",
      " 48 49 50 51 52 53 54] TEST: [55 56 57 58 59 60 61]\n",
      "TRAIN: [ 0  1  2  3  4  5  6  7  8  9 10 11 12 13 14 15 16 17 18 19 20 21 22 23\n",
      " 24 25 26 27 28 29 30 31 32 33 34 35 36 37 38 39 40 41 42 43 44 45 46 47\n",
      " 48 49 50 51 52 53 54 55 56 57 58 59 60 61] TEST: [62 63 64 65 66 67 68]\n",
      "ARIMA(2, 2, 0) MSE=6.250\n",
      "TRAIN: [ 0  1  2  3  4  5  6  7  8  9 10 11 12] TEST: [13 14 15 16 17 18 19]\n",
      "TRAIN: [ 0  1  2  3  4  5  6  7  8  9 10 11 12] TEST: [13 14 15 16 17 18 19]\n",
      "TRAIN: [ 0  1  2  3  4  5  6  7  8  9 10 11 12] TEST: [13 14 15 16 17 18 19]\n"
     ]
    },
    {
     "name": "stderr",
     "output_type": "stream",
     "text": [
      "C:\\Users\\pspat\\Anaconda3\\lib\\site-packages\\statsmodels\\base\\model.py:548: HessianInversionWarning:\n",
      "\n",
      "Inverting hessian failed, no bse or cov_params available\n",
      "\n"
     ]
    },
    {
     "name": "stdout",
     "output_type": "stream",
     "text": [
      "TRAIN: [ 0  1  2  3  4  5  6  7  8  9 10 11 12 13 14 15 16 17 18 19] TEST: [20 21 22 23 24 25 26]\n",
      "TRAIN: [ 0  1  2  3  4  5  6  7  8  9 10 11 12 13 14 15 16 17 18 19 20 21 22 23\n",
      " 24 25 26] TEST: [27 28 29 30 31 32 33]\n",
      "TRAIN: [ 0  1  2  3  4  5  6  7  8  9 10 11 12 13 14 15 16 17 18 19 20 21 22 23\n",
      " 24 25 26 27 28 29 30 31 32 33] TEST: [34 35 36 37 38 39 40]\n"
     ]
    },
    {
     "name": "stderr",
     "output_type": "stream",
     "text": [
      "C:\\Users\\pspat\\Anaconda3\\lib\\site-packages\\statsmodels\\base\\model.py:548: HessianInversionWarning:\n",
      "\n",
      "Inverting hessian failed, no bse or cov_params available\n",
      "\n",
      "C:\\Users\\pspat\\Anaconda3\\lib\\site-packages\\statsmodels\\base\\model.py:548: HessianInversionWarning:\n",
      "\n",
      "Inverting hessian failed, no bse or cov_params available\n",
      "\n"
     ]
    },
    {
     "name": "stdout",
     "output_type": "stream",
     "text": [
      "TRAIN: [ 0  1  2  3  4  5  6  7  8  9 10 11 12 13 14 15 16 17 18 19 20 21 22 23\n",
      " 24 25 26 27 28 29 30 31 32 33 34 35 36 37 38 39 40] TEST: [41 42 43 44 45 46 47]\n",
      "TRAIN: [ 0  1  2  3  4  5  6  7  8  9 10 11 12] TEST: [13 14 15 16 17 18 19]\n",
      "TRAIN: [ 0  1  2  3  4  5  6  7  8  9 10 11 12] TEST: [13 14 15 16 17 18 19]\n",
      "TRAIN: [ 0  1  2  3  4  5  6  7  8  9 10 11 12] TEST: [13 14 15 16 17 18 19]\n",
      "TRAIN: [ 0  1  2  3  4  5  6  7  8  9 10 11 12 13 14 15 16 17 18 19] TEST: [20 21 22 23 24 25 26]\n",
      "TRAIN: [ 0  1  2  3  4  5  6  7  8  9 10 11 12 13 14 15 16 17 18 19 20 21 22 23\n",
      " 24 25 26] TEST: [27 28 29 30 31 32 33]\n",
      "TRAIN: [ 0  1  2  3  4  5  6  7  8  9 10 11 12 13 14 15 16 17 18 19 20 21 22 23\n",
      " 24 25 26 27 28 29 30 31 32 33] TEST: [34 35 36 37 38 39 40]\n",
      "TRAIN: [ 0  1  2  3  4  5  6  7  8  9 10 11 12 13 14 15 16 17 18 19 20 21 22 23\n",
      " 24 25 26 27 28 29 30 31 32 33 34 35 36 37 38 39 40] TEST: [41 42 43 44 45 46 47]\n",
      "TRAIN: [ 0  1  2  3  4  5  6  7  8  9 10 11 12 13 14 15 16 17 18 19 20 21 22 23\n",
      " 24 25 26 27 28 29 30 31 32 33 34 35 36 37 38 39 40 41 42 43 44 45 46 47] TEST: [48 49 50 51 52 53 54]\n",
      "TRAIN: [ 0  1  2  3  4  5  6  7  8  9 10 11 12 13 14 15 16 17 18 19 20 21 22 23\n",
      " 24 25 26 27 28 29 30 31 32 33 34 35 36 37 38 39 40 41 42 43 44 45 46 47\n",
      " 48 49 50 51 52 53 54] TEST: [55 56 57 58 59 60 61]\n",
      "TRAIN: [ 0  1  2  3  4  5  6  7  8  9 10 11 12 13 14 15 16 17 18 19 20 21 22 23\n",
      " 24 25 26 27 28 29 30 31 32 33 34 35 36 37 38 39 40 41 42 43 44 45 46 47\n",
      " 48 49 50 51 52 53 54 55 56 57 58 59 60 61] TEST: [62 63 64 65 66 67 68]\n",
      "ARIMA(4, 1, 0) MSE=9.625\n",
      "TRAIN: [ 0  1  2  3  4  5  6  7  8  9 10 11 12] TEST: [13 14 15 16 17 18 19]\n",
      "TRAIN: [ 0  1  2  3  4  5  6  7  8  9 10 11 12] TEST: [13 14 15 16 17 18 19]\n",
      "TRAIN: [ 0  1  2  3  4  5  6  7  8  9 10 11 12] TEST: [13 14 15 16 17 18 19]\n"
     ]
    },
    {
     "name": "stderr",
     "output_type": "stream",
     "text": [
      "C:\\Users\\pspat\\Anaconda3\\lib\\site-packages\\statsmodels\\base\\model.py:548: HessianInversionWarning:\n",
      "\n",
      "Inverting hessian failed, no bse or cov_params available\n",
      "\n",
      "C:\\Users\\pspat\\Anaconda3\\lib\\site-packages\\statsmodels\\base\\model.py:568: ConvergenceWarning:\n",
      "\n",
      "Maximum Likelihood optimization failed to converge. Check mle_retvals\n",
      "\n"
     ]
    },
    {
     "name": "stdout",
     "output_type": "stream",
     "text": [
      "TRAIN: [ 0  1  2  3  4  5  6  7  8  9 10 11 12 13 14 15 16 17 18 19] TEST: [20 21 22 23 24 25 26]\n",
      "TRAIN: [ 0  1  2  3  4  5  6  7  8  9 10 11 12 13 14 15 16 17 18 19 20 21 22 23\n",
      " 24 25 26] TEST: [27 28 29 30 31 32 33]\n",
      "TRAIN: [ 0  1  2  3  4  5  6  7  8  9 10 11 12 13 14 15 16 17 18 19 20 21 22 23\n",
      " 24 25 26 27 28 29 30 31 32 33] TEST: [34 35 36 37 38 39 40]\n",
      "TRAIN: [ 0  1  2  3  4  5  6  7  8  9 10 11 12 13 14 15 16 17 18 19 20 21 22 23\n",
      " 24 25 26 27 28 29 30 31 32 33 34 35 36 37 38 39 40] TEST: [41 42 43 44 45 46 47]\n",
      "TRAIN: [ 0  1  2  3  4  5  6  7  8  9 10 11 12 13 14 15 16 17 18 19 20 21 22 23\n",
      " 24 25 26 27 28 29 30 31 32 33 34 35 36 37 38 39 40 41 42 43 44 45 46 47] TEST: [48 49 50 51 52 53 54]\n",
      "TRAIN: [ 0  1  2  3  4  5  6  7  8  9 10 11 12 13 14 15 16 17 18 19 20 21 22 23\n",
      " 24 25 26 27 28 29 30 31 32 33 34 35 36 37 38 39 40 41 42 43 44 45 46 47\n",
      " 48 49 50 51 52 53 54] TEST: [55 56 57 58 59 60 61]\n",
      "TRAIN: [ 0  1  2  3  4  5  6  7  8  9 10 11 12 13 14 15 16 17 18 19 20 21 22 23\n",
      " 24 25 26 27 28 29 30 31 32 33 34 35 36 37 38 39 40 41 42 43 44 45 46 47\n",
      " 48 49 50 51 52 53 54 55 56 57 58 59 60 61] TEST: [62 63 64 65 66 67 68]\n",
      "ARIMA(4, 2, 0) MSE=11.125\n",
      "TRAIN: [ 0  1  2  3  4  5  6  7  8  9 10 11 12] TEST: [13 14 15 16 17 18 19]\n",
      "TRAIN: [ 0  1  2  3  4  5  6  7  8  9 10 11 12] TEST: [13 14 15 16 17 18 19]\n",
      "TRAIN: [ 0  1  2  3  4  5  6  7  8  9 10 11 12] TEST: [13 14 15 16 17 18 19]\n"
     ]
    },
    {
     "name": "stderr",
     "output_type": "stream",
     "text": [
      "C:\\Users\\pspat\\Anaconda3\\lib\\site-packages\\statsmodels\\tsa\\tsatools.py:672: RuntimeWarning:\n",
      "\n",
      "invalid value encountered in arctanh\n",
      "\n"
     ]
    },
    {
     "name": "stdout",
     "output_type": "stream",
     "text": [
      "TRAIN: [ 0  1  2  3  4  5  6  7  8  9 10 11 12] TEST: [13 14 15 16 17 18 19]\n",
      "TRAIN: [ 0  1  2  3  4  5  6  7  8  9 10 11 12] TEST: [13 14 15 16 17 18 19]\n",
      "TRAIN: [ 0  1  2  3  4  5  6  7  8  9 10 11 12] TEST: [13 14 15 16 17 18 19]\n",
      "TRAIN: [ 0  1  2  3  4  5  6  7  8  9 10 11 12] TEST: [13 14 15 16 17 18 19]\n",
      "TRAIN: [ 0  1  2  3  4  5  6  7  8  9 10 11 12] TEST: [13 14 15 16 17 18 19]\n",
      "TRAIN: [ 0  1  2  3  4  5  6  7  8  9 10 11 12] TEST: [13 14 15 16 17 18 19]\n",
      "TRAIN: [ 0  1  2  3  4  5  6  7  8  9 10 11 12] TEST: [13 14 15 16 17 18 19]\n",
      "TRAIN: [ 0  1  2  3  4  5  6  7  8  9 10 11 12] TEST: [13 14 15 16 17 18 19]\n",
      "TRAIN: [ 0  1  2  3  4  5  6  7  8  9 10 11 12] TEST: [13 14 15 16 17 18 19]\n",
      "TRAIN: [ 0  1  2  3  4  5  6  7  8  9 10 11 12] TEST: [13 14 15 16 17 18 19]\n",
      "TRAIN: [ 0  1  2  3  4  5  6  7  8  9 10 11 12] TEST: [13 14 15 16 17 18 19]\n",
      "TRAIN: [ 0  1  2  3  4  5  6  7  8  9 10 11 12] TEST: [13 14 15 16 17 18 19]\n",
      "TRAIN: [ 0  1  2  3  4  5  6  7  8  9 10 11 12] TEST: [13 14 15 16 17 18 19]\n",
      "TRAIN: [ 0  1  2  3  4  5  6  7  8  9 10 11 12] TEST: [13 14 15 16 17 18 19]\n",
      "TRAIN: [ 0  1  2  3  4  5  6  7  8  9 10 11 12] TEST: [13 14 15 16 17 18 19]\n",
      "TRAIN: [ 0  1  2  3  4  5  6  7  8  9 10 11 12] TEST: [13 14 15 16 17 18 19]\n",
      "TRAIN: [ 0  1  2  3  4  5  6  7  8  9 10 11 12] TEST: [13 14 15 16 17 18 19]\n",
      "TRAIN: [ 0  1  2  3  4  5  6  7  8  9 10 11 12] TEST: [13 14 15 16 17 18 19]\n",
      "TRAIN: [ 0  1  2  3  4  5  6  7  8  9 10 11 12] TEST: [13 14 15 16 17 18 19]\n",
      "TRAIN: [ 0  1  2  3  4  5  6  7  8  9 10 11 12] TEST: [13 14 15 16 17 18 19]\n",
      "TRAIN: [ 0  1  2  3  4  5  6  7  8  9 10 11 12] TEST: [13 14 15 16 17 18 19]\n",
      "TRAIN: [ 0  1  2  3  4  5  6  7  8  9 10 11 12] TEST: [13 14 15 16 17 18 19]\n",
      "TRAIN: [ 0  1  2  3  4  5  6  7  8  9 10 11 12] TEST: [13 14 15 16 17 18 19]\n",
      "TRAIN: [ 0  1  2  3  4  5  6  7  8  9 10 11 12] TEST: [13 14 15 16 17 18 19]\n",
      "TRAIN: [ 0  1  2  3  4  5  6  7  8  9 10 11 12] TEST: [13 14 15 16 17 18 19]\n",
      "TRAIN: [ 0  1  2  3  4  5  6  7  8  9 10 11 12] TEST: [13 14 15 16 17 18 19]\n",
      "Best ARIMA(2, 2, 0) MAPE=6.250\n"
     ]
    },
    {
     "name": "stderr",
     "output_type": "stream",
     "text": [
      "C:\\Users\\pspat\\Anaconda3\\lib\\site-packages\\statsmodels\\regression\\linear_model.py:1406: RuntimeWarning:\n",
      "\n",
      "invalid value encountered in sqrt\n",
      "\n"
     ]
    }
   ],
   "source": [
    "evaluate_models(y, p_values, d_values, q_values)"
   ]
  },
  {
   "cell_type": "code",
   "execution_count": 45,
   "metadata": {},
   "outputs": [
    {
     "name": "stdout",
     "output_type": "stream",
     "text": [
      "TRAIN: [ 0  1  2  3  4  5  6  7  8  9 10 11 12] TEST: [13 14 15 16 17 18 19]\n",
      "TRAIN: [ 0  1  2  3  4  5  6  7  8  9 10 11 12 13 14 15 16 17 18 19] TEST: [20 21 22 23 24 25 26]\n",
      "TRAIN: [ 0  1  2  3  4  5  6  7  8  9 10 11 12 13 14 15 16 17 18 19 20 21 22 23\n",
      " 24 25 26] TEST: [27 28 29 30 31 32 33]\n",
      "TRAIN: [ 0  1  2  3  4  5  6  7  8  9 10 11 12 13 14 15 16 17 18 19 20 21 22 23\n",
      " 24 25 26 27 28 29 30 31 32 33] TEST: [34 35 36 37 38 39 40]\n",
      "TRAIN: [ 0  1  2  3  4  5  6  7  8  9 10 11 12 13 14 15 16 17 18 19 20 21 22 23\n",
      " 24 25 26 27 28 29 30 31 32 33 34 35 36 37 38 39 40] TEST: [41 42 43 44 45 46 47]\n",
      "TRAIN: [ 0  1  2  3  4  5  6  7  8  9 10 11 12 13 14 15 16 17 18 19 20 21 22 23\n",
      " 24 25 26 27 28 29 30 31 32 33 34 35 36 37 38 39 40 41 42 43 44 45 46 47] TEST: [48 49 50 51 52 53 54]\n",
      "TRAIN: [ 0  1  2  3  4  5  6  7  8  9 10 11 12 13 14 15 16 17 18 19 20 21 22 23\n",
      " 24 25 26 27 28 29 30 31 32 33 34 35 36 37 38 39 40 41 42 43 44 45 46 47\n",
      " 48 49 50 51 52 53 54] TEST: [55 56 57 58 59 60 61]\n",
      "TRAIN: [ 0  1  2  3  4  5  6  7  8  9 10 11 12 13 14 15 16 17 18 19 20 21 22 23\n",
      " 24 25 26 27 28 29 30 31 32 33 34 35 36 37 38 39 40 41 42 43 44 45 46 47\n",
      " 48 49 50 51 52 53 54 55 56 57 58 59 60 61] TEST: [62 63 64 65 66 67 68]\n"
     ]
    }
   ],
   "source": [
    "y = mlr_global_df_use['Confirmed']\n",
    "num_in_test = 7\n",
    "test_size = float(num_in_test) / len(X)\n",
    "n_splits = int((1//test_size)-1)\n",
    "tscv = TimeSeriesSplit(n_splits=n_splits)\n",
    "y_preds_arima = []\n",
    "mapes_arima =  []\n",
    "first_test_ind=500000\n",
    "for train_index, test_index in tscv.split(X):\n",
    "    print(\"TRAIN:\", train_index, \"TEST:\", test_index)\n",
    "    if test_index[0] < first_test_ind:\n",
    "        first_test_ind=test_index[0]\n",
    "    y_train = y.iloc[train_index]\n",
    "    y_test = y.iloc[test_index]\n",
    "    model_arima=ARIMA(y_train,(2,2,0))\n",
    "    model_arima_fit=model_arima.fit()\n",
    "    y_pred = model_arima_fit.forecast(len(y_test))[0]\n",
    "    y_preds_arima.append(np.round(y_pred))\n",
    "    mapes_arima.append(round((abs((y_pred -y_test) / y_test) * 100).mean()))\n",
    "    "
   ]
  },
  {
   "cell_type": "code",
   "execution_count": 46,
   "metadata": {},
   "outputs": [
    {
     "data": {
      "text/plain": [
       "6.25"
      ]
     },
     "execution_count": 46,
     "metadata": {},
     "output_type": "execute_result"
    }
   ],
   "source": [
    "np.mean(mapes_arima)"
   ]
  },
  {
   "cell_type": "code",
   "execution_count": 47,
   "metadata": {},
   "outputs": [
    {
     "name": "stderr",
     "output_type": "stream",
     "text": [
      "No handles with labels found to put in legend.\n"
     ]
    },
    {
     "data": {
      "image/png": "[encoded data removed]",
      "text/plain": [
       "<Figure size 1008x360 with 1 Axes>"
      ]
     },
     "metadata": {
      "needs_background": "light"
     },
     "output_type": "display_data"
    }
   ],
   "source": [
    "fig, ax = plt.subplots(figsize=(14, 5))\n",
    "y_preds_arima_plot = [y for x in y_preds_arima for y in x]\n",
    "yplot = y[first_test_ind:]\n",
    "ax.plot(yplot, 'go--')\n",
    "ax.plot(pd.Series(y_preds_arima_plot, index = yplot.index), 'ro--')\n",
    "\n",
    "plt.title('Actual vs Pred')\n",
    "plt.legend()\n",
    "plt.show()"
   ]
  },
  {
   "cell_type": "markdown",
   "metadata": {},
   "source": [
    "### FB Prophet Modeling"
   ]
  },
  {
   "cell_type": "code",
   "execution_count": 48,
   "metadata": {},
   "outputs": [
    {
     "name": "stderr",
     "output_type": "stream",
     "text": [
      "C:\\Users\\pspat\\Anaconda3\\lib\\site-packages\\pandas\\core\\frame.py:4133: SettingWithCopyWarning:\n",
      "\n",
      "\n",
      "A value is trying to be set on a copy of a slice from a DataFrame\n",
      "\n",
      "See the caveats in the documentation: https://pandas.pydata.org/pandas-docs/stable/user_guide/indexing.html#returning-a-view-versus-a-copy\n",
      "\n",
      "C:\\Users\\pspat\\Anaconda3\\lib\\site-packages\\ipykernel_launcher.py:3: SettingWithCopyWarning:\n",
      "\n",
      "\n",
      "A value is trying to be set on a copy of a slice from a DataFrame.\n",
      "Try using .loc[row_indexer,col_indexer] = value instead\n",
      "\n",
      "See the caveats in the documentation: https://pandas.pydata.org/pandas-docs/stable/user_guide/indexing.html#returning-a-view-versus-a-copy\n",
      "\n"
     ]
    }
   ],
   "source": [
    "df_fb_prophet = mlr_global_df_use[['Date','Confirmed']]\n",
    "df_fb_prophet.rename(columns={'Date':'ds','Confirmed':'y'},inplace=True)\n",
    "df_fb_prophet['ds']=df_fb_prophet['ds'].apply(lambda x: x.date())"
   ]
  },
  {
   "cell_type": "code",
   "execution_count": 49,
   "metadata": {},
   "outputs": [
    {
     "name": "stdout",
     "output_type": "stream",
     "text": [
      "TRAIN: [ 0  1  2  3  4  5  6  7  8  9 10 11 12] TEST: [13 14 15 16 17 18 19]\n",
      "13\n"
     ]
    },
    {
     "name": "stderr",
     "output_type": "stream",
     "text": [
      "INFO:fbprophet:Disabling yearly seasonality. Run prophet with yearly_seasonality=True to override this.\n",
      "INFO:fbprophet:Disabling weekly seasonality. Run prophet with weekly_seasonality=True to override this.\n",
      "INFO:fbprophet:Disabling daily seasonality. Run prophet with daily_seasonality=True to override this.\n",
      "INFO:fbprophet:n_changepoints greater than number of observations. Using 9.\n",
      "INFO:fbprophet:Disabling yearly seasonality. Run prophet with yearly_seasonality=True to override this.\n",
      "INFO:fbprophet:Disabling daily seasonality. Run prophet with daily_seasonality=True to override this.\n",
      "INFO:fbprophet:n_changepoints greater than number of observations. Using 15.\n"
     ]
    },
    {
     "name": "stdout",
     "output_type": "stream",
     "text": [
      "TRAIN: [ 0  1  2  3  4  5  6  7  8  9 10 11 12 13 14 15 16 17 18 19] TEST: [20 21 22 23 24 25 26]\n",
      "20\n"
     ]
    },
    {
     "name": "stderr",
     "output_type": "stream",
     "text": [
      "INFO:fbprophet:Disabling yearly seasonality. Run prophet with yearly_seasonality=True to override this.\n",
      "INFO:fbprophet:Disabling daily seasonality. Run prophet with daily_seasonality=True to override this.\n",
      "INFO:fbprophet:n_changepoints greater than number of observations. Using 20.\n"
     ]
    },
    {
     "name": "stdout",
     "output_type": "stream",
     "text": [
      "TRAIN: [ 0  1  2  3  4  5  6  7  8  9 10 11 12 13 14 15 16 17 18 19 20 21 22 23\n",
      " 24 25 26] TEST: [27 28 29 30 31 32 33]\n",
      "27\n"
     ]
    },
    {
     "name": "stderr",
     "output_type": "stream",
     "text": [
      "INFO:fbprophet:Disabling yearly seasonality. Run prophet with yearly_seasonality=True to override this.\n",
      "INFO:fbprophet:Disabling daily seasonality. Run prophet with daily_seasonality=True to override this.\n"
     ]
    },
    {
     "name": "stdout",
     "output_type": "stream",
     "text": [
      "TRAIN: [ 0  1  2  3  4  5  6  7  8  9 10 11 12 13 14 15 16 17 18 19 20 21 22 23\n",
      " 24 25 26 27 28 29 30 31 32 33] TEST: [34 35 36 37 38 39 40]\n",
      "34\n"
     ]
    },
    {
     "name": "stderr",
     "output_type": "stream",
     "text": [
      "INFO:fbprophet:Disabling yearly seasonality. Run prophet with yearly_seasonality=True to override this.\n",
      "INFO:fbprophet:Disabling daily seasonality. Run prophet with daily_seasonality=True to override this.\n"
     ]
    },
    {
     "name": "stdout",
     "output_type": "stream",
     "text": [
      "TRAIN: [ 0  1  2  3  4  5  6  7  8  9 10 11 12 13 14 15 16 17 18 19 20 21 22 23\n",
      " 24 25 26 27 28 29 30 31 32 33 34 35 36 37 38 39 40] TEST: [41 42 43 44 45 46 47]\n",
      "41\n"
     ]
    },
    {
     "name": "stderr",
     "output_type": "stream",
     "text": [
      "INFO:fbprophet:Disabling yearly seasonality. Run prophet with yearly_seasonality=True to override this.\n",
      "INFO:fbprophet:Disabling daily seasonality. Run prophet with daily_seasonality=True to override this.\n"
     ]
    },
    {
     "name": "stdout",
     "output_type": "stream",
     "text": [
      "TRAIN: [ 0  1  2  3  4  5  6  7  8  9 10 11 12 13 14 15 16 17 18 19 20 21 22 23\n",
      " 24 25 26 27 28 29 30 31 32 33 34 35 36 37 38 39 40 41 42 43 44 45 46 47] TEST: [48 49 50 51 52 53 54]\n",
      "48\n"
     ]
    },
    {
     "name": "stderr",
     "output_type": "stream",
     "text": [
      "INFO:fbprophet:Disabling yearly seasonality. Run prophet with yearly_seasonality=True to override this.\n",
      "INFO:fbprophet:Disabling daily seasonality. Run prophet with daily_seasonality=True to override this.\n"
     ]
    },
    {
     "name": "stdout",
     "output_type": "stream",
     "text": [
      "TRAIN: [ 0  1  2  3  4  5  6  7  8  9 10 11 12 13 14 15 16 17 18 19 20 21 22 23\n",
      " 24 25 26 27 28 29 30 31 32 33 34 35 36 37 38 39 40 41 42 43 44 45 46 47\n",
      " 48 49 50 51 52 53 54] TEST: [55 56 57 58 59 60 61]\n",
      "55\n"
     ]
    },
    {
     "name": "stderr",
     "output_type": "stream",
     "text": [
      "INFO:fbprophet:Disabling yearly seasonality. Run prophet with yearly_seasonality=True to override this.\n",
      "INFO:fbprophet:Disabling daily seasonality. Run prophet with daily_seasonality=True to override this.\n"
     ]
    },
    {
     "name": "stdout",
     "output_type": "stream",
     "text": [
      "TRAIN: [ 0  1  2  3  4  5  6  7  8  9 10 11 12 13 14 15 16 17 18 19 20 21 22 23\n",
      " 24 25 26 27 28 29 30 31 32 33 34 35 36 37 38 39 40 41 42 43 44 45 46 47\n",
      " 48 49 50 51 52 53 54 55 56 57 58 59 60 61] TEST: [62 63 64 65 66 67 68]\n",
      "62\n"
     ]
    }
   ],
   "source": [
    "num_in_test = 7\n",
    "test_size = float(num_in_test) / len(X)\n",
    "n_splits = int((1//test_size)-1)\n",
    "tscv = TimeSeriesSplit(n_splits=n_splits)\n",
    "\n",
    "y_preds_prophet = []\n",
    "mapes_prophet =  []\n",
    "first_test_ind=500000\n",
    "for train_index, test_index in tscv.split(X):\n",
    "    print(\"TRAIN:\", train_index, \"TEST:\", test_index)\n",
    "    if test_index[0] < first_test_ind:\n",
    "        first_test_ind=test_index[0]\n",
    "    df_train = df_fb_prophet.iloc[train_index]\n",
    "    print(len(df_train))\n",
    "    prophet_model=Prophet()\n",
    "    prophet_model.fit(df_train)\n",
    "    future = prophet_model.make_future_dataframe(periods=7)\n",
    "    forecast = prophet_model.predict(future)\n",
    "    forecast=forecast[-7:]\n",
    "    y_pred = forecast['yhat'].values\n",
    "    y_test = df_fb_prophet.iloc[test_index]['y']\n",
    "    y_preds_prophet.append(np.round(y_pred))\n",
    "    mapes_prophet.append(round((abs((y_pred -y_test) / y_test) * 100).mean()))\n",
    "    "
   ]
  },
  {
   "cell_type": "code",
   "execution_count": 50,
   "metadata": {},
   "outputs": [
    {
     "data": {
      "text/plain": [
       "17.25"
      ]
     },
     "execution_count": 50,
     "metadata": {},
     "output_type": "execute_result"
    }
   ],
   "source": [
    "np.mean(mapes_prophet)"
   ]
  },
  {
   "cell_type": "code",
   "execution_count": 51,
   "metadata": {},
   "outputs": [
    {
     "name": "stderr",
     "output_type": "stream",
     "text": [
      "WARNING:matplotlib.legend:No handles with labels found to put in legend.\n"
     ]
    },
    {
     "data": {
      "image/png": "[encoded data removed]",
      "text/plain": [
       "<Figure size 1008x360 with 1 Axes>"
      ]
     },
     "metadata": {
      "needs_background": "light"
     },
     "output_type": "display_data"
    }
   ],
   "source": [
    "fig, ax = plt.subplots(figsize=(14, 5))\n",
    "y_preds_prophet_plot = [y for x in y_preds_prophet for y in x]\n",
    "yplot = y[first_test_ind:]\n",
    "ax.plot(yplot, 'go--')\n",
    "ax.plot(pd.Series(y_preds_prophet_plot, index = yplot.index), 'ro--')\n",
    "\n",
    "plt.title('Actual vs Pred')\n",
    "plt.legend()\n",
    "plt.show()"
   ]
  }
 ],
 "metadata": {
  "kernelspec": {
   "display_name": "Python 3",
   "language": "python",
   "name": "python3"
  },
  "language_info": {
   "codemirror_mode": {
    "name": "ipython",
    "version": 3
   },
   "file_extension": ".py",
   "mimetype": "text/x-python",
   "name": "python",
   "nbconvert_exporter": "python",
   "pygments_lexer": "ipython3",
   "version": "3.7.3"
  }
 },
 "nbformat": 4,
 "nbformat_minor": 4
}
